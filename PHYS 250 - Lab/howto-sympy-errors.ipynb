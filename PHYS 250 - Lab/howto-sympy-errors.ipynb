{
 "cells": [
  {
   "cell_type": "markdown",
   "metadata": {},
   "source": [
    "# How to use Symbolic Python to calculate errors\n",
    "Alastair McLean \n",
    "\n",
    "This was my first attempt at using Python's SymPy package to calculate errors. I have added a lot of comments. If you take the comments out, the code is actually very short. If you find out more elegant ways of coding this, please let me know! I have checked the numerical output against some Mathematica code and the answer is correct. "
   ]
  },
  {
   "cell_type": "markdown",
   "metadata": {},
   "source": [
    "### The Line Spacing of a CD"
   ]
  },
  {
   "cell_type": "code",
   "execution_count": 33,
   "metadata": {
    "collapsed": true
   },
   "outputs": [],
   "source": [
    "import sympy as sym\n",
    "from sympy.functions import Abs\n",
    "import numpy as np"
   ]
  },
  {
   "cell_type": "markdown",
   "metadata": {},
   "source": [
    "The following command will turn on output formatting."
   ]
  },
  {
   "cell_type": "code",
   "execution_count": 34,
   "metadata": {
    "collapsed": true
   },
   "outputs": [],
   "source": [
    "sym.init_printing()"
   ]
  },
  {
   "cell_type": "markdown",
   "metadata": {},
   "source": [
    "Here I define the three variables I will use and their errors. "
   ]
  },
  {
   "cell_type": "code",
   "execution_count": 35,
   "metadata": {
    "collapsed": false
   },
   "outputs": [],
   "source": [
    "l, x, y, dl, dx, dy = sym.symbols('l x y sigma_l sigma_x sigma_y')  "
   ]
  },
  {
   "cell_type": "markdown",
   "metadata": {},
   "source": [
    "To distinguish the variables from the value of the variables that I measured in experiment, I append _val on the end of each variable."
   ]
  },
  {
   "cell_type": "code",
   "execution_count": 36,
   "metadata": {
    "collapsed": true
   },
   "outputs": [],
   "source": [
    "l_val = 0.000000594\n",
    "x_val = 1.554\n",
    "y_val = 0.618\n",
    "dl_val = 0.001*l_val\n",
    "dx_val = 0.004*x_val\n",
    "dy_val = 0.005*y_val"
   ]
  },
  {
   "cell_type": "markdown",
   "metadata": {},
   "source": [
    "Here is the function that is used to calculate the linespacing of the CD."
   ]
  },
  {
   "cell_type": "markdown",
   "metadata": {},
   "source": [
    "\\begin{equation}\n",
    "d = \\lambda \\sqrt{1+\\frac{x}{y}^2}\n",
    "\\end{equation}"
   ]
  },
  {
   "cell_type": "markdown",
   "metadata": {},
   "source": [
    "The Python version of the function is:"
   ]
  },
  {
   "cell_type": "code",
   "execution_count": 37,
   "metadata": {
    "collapsed": false
   },
   "outputs": [],
   "source": [
    "d = l*sym.sqrt(1+pow(x/y,2))"
   ]
  },
  {
   "cell_type": "markdown",
   "metadata": {},
   "source": [
    "I could not get $\\lambda$ to work, so I used $l$. In the following line I evaluate d and assign it to d_val using the values of l, x and y that I obtained from experiment (l_val, x_val and y_val)."
   ]
  },
  {
   "cell_type": "code",
   "execution_count": 38,
   "metadata": {
    "collapsed": false
   },
   "outputs": [],
   "source": [
    "d_val = d.subs([(l,l_val),(x,x_val),(y,y_val)])"
   ]
  },
  {
   "cell_type": "markdown",
   "metadata": {},
   "source": [
    "Next, I sympy to calculate the partial derivatives. "
   ]
  },
  {
   "cell_type": "code",
   "execution_count": 39,
   "metadata": {
    "collapsed": false
   },
   "outputs": [],
   "source": [
    "dddl = sym.Abs(sym.diff(d,l))\n",
    "dddx = Abs(sym.diff(d,x))\n",
    "dddy = Abs(sym.diff(d,y))"
   ]
  },
  {
   "cell_type": "markdown",
   "metadata": {},
   "source": [
    "I get sympy to calculate the formula that describes the error."
   ]
  },
  {
   "cell_type": "code",
   "execution_count": 40,
   "metadata": {
    "collapsed": false
   },
   "outputs": [],
   "source": [
    "d_error = sym.sqrt(pow(dddl*dl,2)+pow(dddx*dx,2)+pow(dddy*dy,2))"
   ]
  },
  {
   "cell_type": "markdown",
   "metadata": {},
   "source": [
    "I calculate the error by substituting the values. "
   ]
  },
  {
   "cell_type": "code",
   "execution_count": 41,
   "metadata": {
    "collapsed": false
   },
   "outputs": [],
   "source": [
    "d_error_val = d_error.subs([(l,l_val),(x,x_val),(y,y_val),(dl,dl_val),(dx,dx_val),(dy,dy_val)])"
   ]
  },
  {
   "cell_type": "markdown",
   "metadata": {},
   "source": [
    "I now print out the results of the error calculation."
   ]
  },
  {
   "cell_type": "code",
   "execution_count": 42,
   "metadata": {
    "collapsed": false
   },
   "outputs": [
    {
     "name": "stdout",
     "output_type": "stream",
     "text": [
      "Linespacing: 1.6e-6\n",
      "Absolute error: 9.0e-9\n",
      "Percentage error: 5.6e-1\n"
     ]
    }
   ],
   "source": [
    "print(\"Linespacing: {:.1e}\".format(d_val))\n",
    "print(\"Absolute error: {:.1e}\".format(d_error_val))\n",
    "print(\"Percentage error: {:.1e}\".format(100.0*d_error_val/d_val))"
   ]
  },
  {
   "cell_type": "markdown",
   "metadata": {},
   "source": [
    "If you need the analytical function that describes the error, here it is."
   ]
  },
  {
   "cell_type": "code",
   "execution_count": 44,
   "metadata": {
    "collapsed": false
   },
   "outputs": [
    {
     "name": "stdout",
     "output_type": "stream",
     "text": [
      "(sigma_l**2*Abs(sqrt(x**2/y**2 + 1))**2 + sigma_x**2*Abs(l*x/(y**2*sqrt(x**2/y**2 + 1)))**2 + sigma_y**2*Abs(l*x**2/(y**3*sqrt(x**2/y**2 + 1)))**2)**0.5\n"
     ]
    }
   ],
   "source": [
    "print(sym.simplify(d_error).evalf(subs={y:4}))"
   ]
  },
  {
   "cell_type": "code",
   "execution_count": null,
   "metadata": {
    "collapsed": true
   },
   "outputs": [],
   "source": []
  }
 ],
 "metadata": {
  "kernelspec": {
   "display_name": "Python 3",
   "language": "python",
   "name": "python3"
  },
  "language_info": {
   "codemirror_mode": {
    "name": "ipython",
    "version": 3
   },
   "file_extension": ".py",
   "mimetype": "text/x-python",
   "name": "python",
   "nbconvert_exporter": "python",
   "pygments_lexer": "ipython3",
   "version": "3.5.1"
  }
 },
 "nbformat": 4,
 "nbformat_minor": 0
}
