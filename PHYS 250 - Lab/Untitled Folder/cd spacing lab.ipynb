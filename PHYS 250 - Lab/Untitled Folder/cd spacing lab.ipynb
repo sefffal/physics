{
 "cells": [
  {
   "cell_type": "code",
   "execution_count": 12,
   "metadata": {
    "collapsed": false
   },
   "outputs": [
    {
     "name": "stdout",
     "output_type": "stream",
     "text": [
      "Populating the interactive namespace from numpy and matplotlib\n"
     ]
    },
    {
     "name": "stderr",
     "output_type": "stream",
     "text": [
      "WARNING: pylab import has clobbered these variables: ['cm']\n",
      "`%matplotlib` prevents importing * from pylab and numpy\n"
     ]
    }
   ],
   "source": [
    "%pylab inline\n",
    "import scipy.stats as stats"
   ]
  },
  {
   "cell_type": "code",
   "execution_count": 13,
   "metadata": {
    "collapsed": true
   },
   "outputs": [],
   "source": [
    "m = 1\n",
    "cm = 1e-2 * m\n",
    "mm = 1e-2 * m\n",
    "nm = 1e-9 * m"
   ]
  },
  {
   "cell_type": "code",
   "execution_count": 3,
   "metadata": {
    "collapsed": false
   },
   "outputs": [],
   "source": [
    "def height_to_ϴ(height, height_d, dist, dist_d):\n",
    "    return (\n",
    "        # Value\n",
    "        arctan(height/dist),\n",
    "        # Uncertainties\n",
    "        sqrt(\n",
    "            (height_d*height/(dist**2+height**2))**2+\n",
    "            (dist_d*dist/(dist**2+height**2))**2\n",
    "        )\n",
    "    )"
   ]
  },
  {
   "cell_type": "code",
   "execution_count": 4,
   "metadata": {
    "collapsed": true
   },
   "outputs": [],
   "source": [
    "def subtract_offset(y_0, y_0_d, y, yd):\n",
    "    return y - y_0, sqrt(y_0_d**2 + yd**2)"
   ]
  },
  {
   "cell_type": "code",
   "execution_count": 35,
   "metadata": {
    "collapsed": false
   },
   "outputs": [],
   "source": [
    "def spacing_from_height_wavelength(λ, ϴ, ϴ_d, n):\n",
    "    return (\n",
    "        # Value\n",
    "        n*λ / (sin(ϴ)),\n",
    "        # Uncertainty\n",
    "        abs(ϴ_d*λ*n / (tan(ϴ) * cos(ϴ)))\n",
    "    )\n",
    "    "
   ]
  },
  {
   "cell_type": "code",
   "execution_count": 47,
   "metadata": {
    "collapsed": false
   },
   "outputs": [],
   "source": [
    "def wavelength_from_height_spacing(spacing, spacing_d, ϴ, ϴ_d, n):\n",
    "    return (\n",
    "        # Value\n",
    "        spacing * sin(ϴ) / n,\n",
    "        # Uncertainty\n",
    "        sqrt(\n",
    "            (spacing_d * sin(ϴ) / n)**2 + \n",
    "            (ϴ_d * spacing*  cos(ϴ) / n)**2\n",
    "        )\n",
    "    )\n",
    "    "
   ]
  },
  {
   "cell_type": "code",
   "execution_count": 37,
   "metadata": {
    "collapsed": true
   },
   "outputs": [],
   "source": [
    "def weighted_average(Xs, Xs_d):\n",
    "    weights = 1/Xs_d**2\n",
    "    estimate = sum(Xs*weights)/sum(weights)\n",
    "    estimate_d = 1/sqrt(sum(weights))\n",
    "    return estimate, estimate_d"
   ]
  },
  {
   "cell_type": "code",
   "execution_count": 53,
   "metadata": {
    "collapsed": false
   },
   "outputs": [],
   "source": [
    "\n",
    "\n",
    "# 543nm\n",
    "λ_green = 543*nm\n",
    "laser_green = {\n",
    "    (81.4 * cm, 1*mm) : {\n",
    "        'Y0': 26.3*cm,\n",
    "        'Y0_d': 3*mm,\n",
    "        'Y1': 56.5*cm,\n",
    "        'Y1_d': 2*mm,\n",
    "        'Y2': 104.1*cm,\n",
    "        'Y2_d': 2*mm,\n",
    "    },\n",
    "    (98.8 * cm, 1*mm) : {\n",
    "        'Y0': 27.4*cm,\n",
    "        'Y0_d': 3*mm,\n",
    "        'Y1': 61.8*cm,\n",
    "        'Y1_d': 2*mm,\n",
    "        'Y2': 117.7*cm,\n",
    "        'Y2_d': 2*mm,\n",
    "    },\n",
    "    (76.7 * cm, 1*mm) : {\n",
    "        'Y0': 25.8*cm,\n",
    "        'Y0_d': 3*mm,\n",
    "        'Y1': 53.3*cm,\n",
    "        'Y1_d': 2*mm,\n",
    "        'Y2': 96.2*cm,\n",
    "        'Y2_d': 2*mm,\n",
    "    }\n",
    "}\n",
    "\n",
    "\n",
    "# 632.8nm\n",
    "laser_red = {\n",
    "    (94.6 * cm, 1*mm) : {\n",
    "        'Y0': 24.2*cm,\n",
    "        'Y0_d': 3*mm,\n",
    "        'Y1': 64.4*cm,\n",
    "        'Y1_d': 2*mm,\n",
    "        'Y2': 140.2*cm,\n",
    "        'Y2_d': 2*mm,\n",
    "    },\n",
    "    (79.4 * cm, 1*mm) : {\n",
    "        'Y0': 24.5*cm,\n",
    "        'Y0_d': 3*mm,\n",
    "        'Y1': 58.2*cm,\n",
    "        'Y1_d': 2*mm,\n",
    "        'Y2': 121.5*cm,\n",
    "        'Y2_d': 2*mm,\n",
    "    },\n",
    "    (97.1 * cm, 1*mm) : {\n",
    "        'Y0': 24.4*cm,\n",
    "        'Y0_d': 3*mm,\n",
    "        'Y1': 65.5*cm,\n",
    "        'Y1_d': 2*mm,\n",
    "        'Y2': 143.4*cm,\n",
    "        'Y2_d': 2*mm,\n",
    "    }\n",
    "}\n",
    "\n",
    "\n"
   ]
  },
  {
   "cell_type": "code",
   "execution_count": 54,
   "metadata": {
    "collapsed": false
   },
   "outputs": [
    {
     "data": {
      "text/plain": [
       "(1601.4763856498803, 13.100962554524942)"
      ]
     },
     "execution_count": 54,
     "metadata": {},
     "output_type": "execute_result"
    },
    {
     "data": {
      "image/png": "[encoded data removed]",
      "text/plain": [
       "<matplotlib.figure.Figure at 0x22d8331d898>"
      ]
     },
     "metadata": {},
     "output_type": "display_data"
    }
   ],
   "source": [
    "\n",
    "spacings = []\n",
    "for (L, L_d), values in laser_green.items():\n",
    "    y1, y1_d = subtract_offset(\n",
    "        values['Y0'],\n",
    "        values['Y0_d'],\n",
    "        values['Y1'],\n",
    "        values['Y1_d']\n",
    "    )\n",
    "    y2, y2_d = subtract_offset(\n",
    "        values['Y0'],\n",
    "        values['Y0_d'],\n",
    "        values['Y2'],\n",
    "        values['Y2_d']\n",
    "    )\n",
    "    ϴ1, ϴ1d = height_to_ϴ(y1, y1_d, L, L_d)\n",
    "    ϴ2, ϴ2d = height_to_ϴ(y2, y2_d, L, L_d)\n",
    "    \n",
    "    spacings.append(spacing_from_height_wavelength(λ_green, ϴ1, ϴ1d, 1))\n",
    "    spacings.append(spacing_from_height_wavelength(λ_green, ϴ2, ϴ2d, 2))\n",
    "\n",
    "spacings_and_err = array(spacings)\n",
    "spacings = spacings_and_err[:,0]\n",
    "spacings_d = spacings_and_err[:,1]\n",
    "\n",
    "cd_spacing = mean(spacings)\n",
    "cd_spacing_d = stats.sem(spacings, ddof=1)\n",
    "\n",
    "\n",
    "hist(spacings)\n",
    "\n",
    "cd_spacing/nm, cd_spacing_d/nm\n",
    "\n"
   ]
  },
  {
   "cell_type": "code",
   "execution_count": 55,
   "metadata": {
    "collapsed": false
   },
   "outputs": [
    {
     "data": {
      "text/plain": [
       "array([[  1.60887776e-06,   3.03778149e-08],\n",
       "       [  1.60602675e-06,   3.92897511e-08],\n",
       "       [  1.65137347e-06,   2.39256821e-08],\n",
       "       [  1.60974433e-06,   3.05713876e-08],\n",
       "       [  1.56106488e-06,   2.81543135e-08],\n",
       "       [  1.57177112e-06,   3.62091604e-08]])"
      ]
     },
     "execution_count": 55,
     "metadata": {},
     "output_type": "execute_result"
    }
   ],
   "source": [
    "spacings_and_err"
   ]
  },
  {
   "cell_type": "code",
   "execution_count": 56,
   "metadata": {
    "collapsed": false
   },
   "outputs": [
    {
     "data": {
      "text/plain": [
       "(1606.5492572119172, 12.334773259312886)"
      ]
     },
     "execution_count": 56,
     "metadata": {},
     "output_type": "execute_result"
    }
   ],
   "source": [
    "a, ad = weighted_average(spacings, spacings_d)\n",
    "a/nm, ad/nm"
   ]
  },
  {
   "cell_type": "code",
   "execution_count": 57,
   "metadata": {
    "collapsed": false
   },
   "outputs": [
    {
     "data": {
      "text/plain": [
       "(622.80976003133696, 1.2091191403911727)"
      ]
     },
     "execution_count": 57,
     "metadata": {},
     "output_type": "execute_result"
    },
    {
     "data": {
      "image/png": "[encoded data removed]",
      "text/plain": [
       "<matplotlib.figure.Figure at 0x22d812ad2b0>"
      ]
     },
     "metadata": {},
     "output_type": "display_data"
    }
   ],
   "source": [
    "\n",
    "wavelengths_red = []\n",
    "for (L, L_d), values in laser_red.items():\n",
    "    y1, y1_d = subtract_offset(\n",
    "        values['Y0'],\n",
    "        values['Y0_d'],\n",
    "        values['Y1'],\n",
    "        values['Y1_d']\n",
    "    )\n",
    "    y2, y2_d = subtract_offset(\n",
    "        values['Y0'],\n",
    "        values['Y0_d'],\n",
    "        values['Y2'],\n",
    "        values['Y2_d']\n",
    "    )\n",
    "    ϴ1, ϴ1d = height_to_ϴ(y1, y1_d, L, L_d)\n",
    "    ϴ2, ϴ2d = height_to_ϴ(y2, y2_d, L, L_d)\n",
    "    \n",
    "    wavelengths_red.append(\n",
    "        wavelength_from_height_spacing(cd_spacing, cd_spacing_d, ϴ1, ϴ1d, 1)\n",
    "    )\n",
    "    wavelengths_red.append(\n",
    "        wavelength_from_height_spacing(cd_spacing, cd_spacing_d, ϴ2, ϴ2d, 2)\n",
    "    )\n",
    "\n",
    "wavelengths_red_and_err = array(wavelengths_red)\n",
    "wavelengths_red = wavelengths_red_and_err[:,0]\n",
    "wavelengths_red_err = wavelengths_red_and_err[:,1]\n",
    "\n",
    "wavelength_red = mean(wavelengths_red)\n",
    "wavelength_red_d = stats.sem(wavelengths_red, ddof=1)\n",
    "\n",
    "\n",
    "hist(wavelengths_red)\n",
    "\n",
    "wavelength_red/nm, wavelength_red_d/nm\n"
   ]
  },
  {
   "cell_type": "code",
   "execution_count": 58,
   "metadata": {
    "collapsed": false
   },
   "outputs": [
    {
     "data": {
      "text/plain": [
       "(621.08357701221064, 5.9899801495378497)"
      ]
     },
     "execution_count": 58,
     "metadata": {},
     "output_type": "execute_result"
    }
   ],
   "source": [
    "\n",
    "b, bd = weighted_average(wavelengths_red, wavelengths_red_err)\n",
    "b/nm, bd/nm"
   ]
  },
  {
   "cell_type": "code",
   "execution_count": null,
   "metadata": {
    "collapsed": true
   },
   "outputs": [],
   "source": []
  }
 ],
 "metadata": {
  "kernelspec": {
   "display_name": "Python 3",
   "language": "python",
   "name": "python3"
  },
  "language_info": {
   "codemirror_mode": {
    "name": "ipython",
    "version": 3
   },
   "file_extension": ".py",
   "mimetype": "text/x-python",
   "name": "python",
   "nbconvert_exporter": "python",
   "pygments_lexer": "ipython3",
   "version": "3.5.1"
  }
 },
 "nbformat": 4,
 "nbformat_minor": 0
}
