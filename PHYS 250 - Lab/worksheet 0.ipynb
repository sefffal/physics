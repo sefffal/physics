{
 "cells": [
  {
   "cell_type": "markdown",
   "metadata": {},
   "source": [
    "# Worksheet 0\n",
    "\n",
    "## Problem 1"
   ]
  },
  {
   "cell_type": "markdown",
   "metadata": {},
   "source": [
    "A **sentence** is a linguistic ~~untie~~ unit consisting of ~~two~~ one or more words that are *grammatically linked*. A sentence can include words grouped meaningfully to express a statement, question, <u>exclamation</u> request, command or suggestion."
   ]
  },
  {
   "cell_type": "markdown",
   "metadata": {},
   "source": [
    "## Problem 2\n",
    "\n",
    "A recipe is merely words on paper; a guideline, a starting point from which to improvise. It cannot pretend to replace the practiced hand and telling glance of a watchful cook. For that reason, this is also an account of what happens when I make this dish, so you’ll understand each step. Of course when you cook it once, it becomes yours, so personalize it a bit. Add more of an ingredient you like or less of something you don’t like. Try substituting one ingredient for another. Remember words have no flavour, you have to add your own!\n",
    "When you experiment with recipes you will introduce your family and friends to new flavours and turn ordinary recipes into extra special recipes with your special touch.\n",
    "\n",
    "**Ham Hock Lentil Cabbage Stew**\n",
    "\n",
    "Serves 4 to 6\n",
    "\n",
    "- 1 smoked ham hock\n",
    "- 2 bay leaves\n",
    "- 1 large or 2 smaller onions\n",
    "- 4 to 8 clobs of peeled garlic\n",
    "- 1 cup of lentil\n",
    "- 1/2 head of thinly sliced Napa cabbage\n",
    "- 1/4 cup of mustard\n",
    "- sea salt and freshly ground pepper\n",
    "\n",
    "Toss the ham hock and bay leaves into a stockpot and cover them with 8 cups of water. Bring the water to a full boil then adjust the heat so it just barely maintains a simmer. Continue cooking the hock until it’s tender and the broth is flavourful, about 2 hours. Using a pair of tongs pull out the bones and break the larger chunks of meat into smaller pieces. Reserve the meat and the broth. \n",
    "\n",
    "Meanwhile chop the onions. Sautee the onions in a second soup pot with a splash of any cooking oil until the onions are tender and golden, about 5 minutes. Add the garlic and stir a few minutes longer. Pour in the reserved broth and meat. Bring the mixture to the simmer. Pour in the lentils, stir then cram in the cabbage. Continue simmering as the cabbage wilts and releases moisture. When the cabbage is tender stir in the mustard. Taste the stew and season to your taste with salt and pepper.\n",
    "\n",
    "![Ham Hock Lentil Soup](http://6856-presscdn-0-38.pagely.netdna-cdn.com/wp-content/uploads/2011/02/Episode-22-Ham-hock-soup.png)\n",
    "\n",
    "    "
   ]
  },
  {
   "cell_type": "markdown",
   "metadata": {},
   "source": [
    "## Problem 3\n",
    "\n",
    "| Tables        | Are           | Cool  |\n",
    "| ------------- |:-------------:| -----:|\n",
    "| col 3 is      | right-aligned | 1600 |\n",
    "| col 2 is      | centered      |   12 |\n",
    "| zebra stripes | are neat      |    1 |"
   ]
  },
  {
   "cell_type": "markdown",
   "metadata": {},
   "source": [
    "## Problem 4\n",
    "\\begin{eqnarray}\n",
    "||\\vec{OD}|| = \\sqrt{x_1^2+y_1^2} \\;\\; \\;\\; ||r_1|| = \\sqrt{OD^2 + z_1^2}\n",
    "\\end{eqnarray}"
   ]
  },
  {
   "cell_type": "markdown",
   "metadata": {},
   "source": [
    "## Problem 5\n",
    "$$\\vec r_1 = (2,1) \\\\ \\vec r_1 = 2\\hat x + \\hat y$$"
   ]
  },
  {
   "cell_type": "markdown",
   "metadata": {},
   "source": [
    "## Problem 6\n",
    "$$ \\boldsymbol r_1 = (2,1) \\\\ \\boldsymbol r_1 = 2 \\hat e_x + \\hat e_y $$"
   ]
  },
  {
   "cell_type": "markdown",
   "metadata": {},
   "source": [
    "## Problem 7\n",
    "\n",
    "\\begin{eqnarray}\n",
    "x_{if} =& v_{if} t + \\frac{1}{2} a_x t^2 \\\\\n",
    "v_{fx} =& v_{ix} + a_x t \\\\\n",
    "v^2_{fx} =& v^2_{ix} + 2 a_x x_{if} \\\\\n",
    "\\end{eqnarray}"
   ]
  },
  {
   "cell_type": "markdown",
   "metadata": {},
   "source": [
    "## Problem 8\n",
    "\n",
    "$$f(t_f)-f(t_i) = \\int_{t_i}^{t_f} f'(t)dt $$"
   ]
  },
  {
   "cell_type": "markdown",
   "metadata": {},
   "source": [
    "## Problem 9"
   ]
  },
  {
   "cell_type": "code",
   "execution_count": 41,
   "metadata": {
    "collapsed": false
   },
   "outputs": [
    {
     "name": "stdout",
     "output_type": "stream",
     "text": [
      "Populating the interactive namespace from numpy and matplotlib\n",
      "Mean   : 195.00 \n",
      "Median : 195.00 \n",
      "\n"
     ]
    }
   ],
   "source": [
    "%pylab inline\n",
    "data = array([\n",
    "    100, 110, 120,\n",
    "    130, 140, 150,\n",
    "    160, 170, 180,\n",
    "    190, 200, 210,\n",
    "    220, 230, 240,\n",
    "    250, 260, 270,\n",
    "    280, 290\n",
    "])\n",
    "mean_val = mean(data)\n",
    "median_val = median(data)\n",
    "\n",
    "print(\n",
    "    \"Mean   : {mean_val:.2f} \\n\"\n",
    "    \"Median : {median_val:.2f} \\n\".format(**locals())\n",
    ")"
   ]
  },
  {
   "cell_type": "code",
   "execution_count": 40,
   "metadata": {
    "collapsed": false
   },
   "outputs": [
    {
     "data": {
      "image/png": "[encoded data removed]",
      "text/plain": [
       "<matplotlib.figure.Figure at 0x2282287dbe0>"
      ]
     },
     "metadata": {},
     "output_type": "display_data"
    }
   ],
   "source": [
    "def P(x, mu, sigma):\n",
    "    return 1/(sigma*sqrt(2*pi)) * e**(-1/2 *(x-mu)**2/sigma**2)\n",
    "\n",
    "x = linspace(-10,10,1000)\n",
    "\n",
    "figure(figsize=(10,5))\n",
    "title('Plot of three Gaussian Functions', fontsize=16)\n",
    "plot(x, P(x, -1, 1))\n",
    "plot(x, P(x,  0, 2))\n",
    "plot(x, P(x,  2, 3))\n",
    "xlim(-10,10)\n",
    "ylim(0,0.45)\n",
    "xlabel('amplitude (arb. units)', fontsize=14)\n",
    "xlabel('x (arb. units)', fontsize=14);"
   ]
  }
 ],
 "metadata": {
  "kernelspec": {
   "display_name": "Python 3",
   "language": "python",
   "name": "python3"
  },
  "language_info": {
   "codemirror_mode": {
    "name": "ipython",
    "version": 3
   },
   "file_extension": ".py",
   "mimetype": "text/x-python",
   "name": "python",
   "nbconvert_exporter": "python",
   "pygments_lexer": "ipython3",
   "version": "3.5.1"
  }
 },
 "nbformat": 4,
 "nbformat_minor": 0
}
