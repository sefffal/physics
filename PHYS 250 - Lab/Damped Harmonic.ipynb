{
 "cells": [
  {
   "cell_type": "code",
   "execution_count": 22,
   "metadata": {
    "collapsed": false
   },
   "outputs": [
    {
     "name": "stdout",
     "output_type": "stream",
     "text": [
      "Populating the interactive namespace from numpy and matplotlib\n"
     ]
    }
   ],
   "source": [
    "%pylab inline\n",
    "import scipy.stats as stats"
   ]
  },
  {
   "cell_type": "code",
   "execution_count": 63,
   "metadata": {
    "collapsed": true
   },
   "outputs": [],
   "source": [
    "Ω = 1\n",
    "V = 1\n",
    "s = 1\n",
    "μs = s*1e-6\n",
    "deg = pi/180"
   ]
  },
  {
   "cell_type": "code",
   "execution_count": 64,
   "metadata": {
    "collapsed": false
   },
   "outputs": [],
   "source": [
    "# Underdamped Data\n",
    "underdamped_times = {\n",
    "    1: array([\n",
    "        03.55,\n",
    "        03.39,\n",
    "        03.76,\n",
    "        03.94,\n",
    "        03.77,\n",
    "        03.98,\n",
    "    ])*2,\n",
    "    2: array([\n",
    "        03.89,\n",
    "        03.84,\n",
    "        04.19,\n",
    "        03.94,\n",
    "        03.21\n",
    "    ])*2,\n",
    "    3: array([\n",
    "        04.04,\n",
    "        03.44,\n",
    "        04.02,\n",
    "        03.79,\n",
    "        03.44\n",
    "    ])*2\n",
    "    \n",
    "}\n",
    "underdamped_times_d = 0.1 *s\n",
    "\n",
    "underdamped_maxima_minima = {\n",
    "    1: array([\n",
    "        25,\n",
    "        -12,\n",
    "        5.5,\n",
    "        -2,\n",
    "        1,\n",
    "    ])*s,\n",
    "    2: array([\n",
    "        16,\n",
    "        -6.5,\n",
    "        3.5,\n",
    "        -1,\n",
    "        0\n",
    "    ])*s,\n",
    "    3: array([\n",
    "        9.5,\n",
    "        -3.5,\n",
    "        1.5,\n",
    "        -1,\n",
    "        .3\n",
    "    ])*s\n",
    "    \n",
    "}\n",
    "\n",
    "critical_resistance = 50*Ω\n",
    "critical_resistance_d = 0.5*Ω \n",
    "\n",
    "critical_damping_time_to_max = array([\n",
    "    1.52,\n",
    "    1.47,\n",
    "    1.49,\n",
    "    1.39,\n",
    "    1.57\n",
    "]) * s\n",
    "critical_damping_time_to_max_d = 0.1\n",
    "\n",
    "\n",
    "over_damped_comments = \"\"\"\n",
    "R=16\n",
    "Very slow to go back to zero\n",
    "Slow to get to max\n",
    "Also very very slow to get to zero again\"\"\""
   ]
  },
  {
   "cell_type": "code",
   "execution_count": 43,
   "metadata": {
    "collapsed": true
   },
   "outputs": [],
   "source": [
    "def ω(T):\n",
    "    return 2*pi/T"
   ]
  },
  {
   "cell_type": "code",
   "execution_count": 65,
   "metadata": {
    "collapsed": false
   },
   "outputs": [
    {
     "data": {
      "text/plain": [
       "(0.8395827679625778, 0.016186085780464085)"
      ]
     },
     "execution_count": 65,
     "metadata": {},
     "output_type": "execute_result"
    }
   ],
   "source": [
    "natural_frequencies = np.concatenate([\n",
    "    ω(underdamped_times[1]),\n",
    "    ω(underdamped_times[2]),\n",
    "    ω(underdamped_times[3])\n",
    "])\n",
    "\n",
    "periods = np.concatenate([\n",
    "    underdamped_times[1],\n",
    "    underdamped_times[2],\n",
    "    underdamped_times[3]\n",
    "])\n",
    "period = mean(periods)\n",
    "period_d = stats.sem(periods, ddof=1)\n",
    "\n",
    "natural_frequency = mean(natural_frequencies)\n",
    "natural_frequency_d = stats.sem(natural_frequencies, ddof=1)\n",
    "\n",
    "natural_frequency, natural_frequency_d"
   ]
  },
  {
   "cell_type": "code",
   "execution_count": 58,
   "metadata": {
    "collapsed": false
   },
   "outputs": [
    {
     "data": {
      "text/plain": [
       "-0.43752177406024684"
      ]
     },
     "execution_count": 58,
     "metadata": {},
     "output_type": "execute_result"
    },
    {
     "data": {
      "image/png": "[encoded data removed]",
      "text/plain": [
       "<matplotlib.figure.Figure at 0x1afc0402668>"
      ]
     },
     "metadata": {},
     "output_type": "display_data"
    }
   ],
   "source": [
    "t = period*arange(1/4, len(underdamped_maxima_minima[1])/2, 1/2)\n",
    "y_model = log(abs(underdamped_maxima_minima[1]))\n",
    "errorbar(\n",
    "    t,\n",
    "    y_model,\n",
    "    natural_frequency_d,\n",
    "    period_d/2,\n",
    "    'b.'\n",
    ")\n",
    "\n",
    "stats.linregress(t, y_model).slope*2"
   ]
  },
  {
   "cell_type": "code",
   "execution_count": 38,
   "metadata": {
    "collapsed": false
   },
   "outputs": [
    {
     "data": {
      "text/plain": [
       "array([ 0.25,  0.75,  1.25,  1.75,  2.25])"
      ]
     },
     "execution_count": 38,
     "metadata": {},
     "output_type": "execute_result"
    }
   ],
   "source": [
    "\n",
    "\n",
    "\n"
   ]
  },
  {
   "cell_type": "markdown",
   "metadata": {},
   "source": [
    "\n",
    "\n",
    "\n",
    "\n",
    "\n",
    "\n",
    "# Electric"
   ]
  },
  {
   "cell_type": "code",
   "execution_count": 68,
   "metadata": {
    "collapsed": false
   },
   "outputs": [],
   "source": [
    "dc_offset = 5.09 *V\n",
    "zero_crossing_min_damping = array([\n",
    "        9.60,\n",
    "        28.20,\n",
    "        46.60,\n",
    "        65.40,\n",
    "        83.60,\n",
    "        102.2,\n",
    "        120.8,\n",
    "        139.0,\n",
    "        157.8,\n",
    "        175.8,\n",
    "        194.8,\n",
    "        213.4\n",
    "    ]) * μs\n",
    "\n",
    "amplitudes = array([\n",
    "    14.22,\n",
    "    -1.88,\n",
    "    10.00,\n",
    "    -1.25,\n",
    "    7.66,\n",
    "    2.97,\n",
    "    6.41,\n",
    "    3.75,\n",
    "    5.78,\n",
    "    4.38,\n",
    "        \n",
    "]) * V -  dc_offset\n",
    "\n",
    "L = 25.6 #mH 140 Ohms\n",
    "C=1150 # picoFarads\n",
    "\n",
    "R_v = 0.005 * Ω\n",
    "R_L = 0.1448 * Ω\n",
    "\n",
    "R_g = 480*Ω\n",
    "\n",
    "# room 252"
   ]
  },
  {
   "cell_type": "code",
   "execution_count": 71,
   "metadata": {
    "collapsed": false
   },
   "outputs": [
    {
     "data": {
      "text/plain": [
       "'\\nBecomes an elongated slope\\nBecomes very flat'"
      ]
     },
     "execution_count": 71,
     "metadata": {},
     "output_type": "execute_result"
    }
   ],
   "source": [
    "# Crit\n",
    "\n",
    "R_v_crit = 6600*Ω\n",
    "R_v_uncertain = 0\n",
    "\n",
    "\n",
    "# Over\n",
    "\"\"\"\n",
    "Becomes an elongated slope\n",
    "Becomes very flat\"\"\""
   ]
  },
  {
   "cell_type": "markdown",
   "metadata": {},
   "source": [
    "Overdamped: first CSV\n",
    "\n",
    "Critically damped: second CSV\n",
    "\n",
    "Underdamped: third CSV"
   ]
  }
 ],
 "metadata": {
  "kernelspec": {
   "display_name": "Python 3",
   "language": "python",
   "name": "python3"
  },
  "language_info": {
   "codemirror_mode": {
    "name": "ipython",
    "version": 3
   },
   "file_extension": ".py",
   "mimetype": "text/x-python",
   "name": "python",
   "nbconvert_exporter": "python",
   "pygments_lexer": "ipython3",
   "version": "3.5.1"
  }
 },
 "nbformat": 4,
 "nbformat_minor": 0
}
