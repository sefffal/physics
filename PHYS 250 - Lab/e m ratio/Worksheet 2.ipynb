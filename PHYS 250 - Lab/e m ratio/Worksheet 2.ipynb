{
 "cells": [
  {
   "cell_type": "markdown",
   "metadata": {},
   "source": [
    "# Worksheet 2 &mdash; $E/M$ Ratio\n",
    "William Thompson &nbsp;&nbsp;&nbsp;&nbsp;\n",
    "10091404&nbsp;&nbsp;&nbsp;&nbsp;&nbsp;\n",
    "12wt9@queensu.ca\n",
    "\n",
    "<img src=\"https://upload.wikimedia.org/wikipedia/commons/thumb/a/a9/Cyclotron_motion.jpg/800px-Cyclotron_motion.jpg\" style=\"width:400px;max-width:50%;float:right\"/>\n",
    "\n",
    "\n",
    "**Table of Contents:**\n",
    "1. [Preamble](#1-–-Preamble)\n",
    "     0. [Modules](#1A-–-Modules)\n",
    "     0. [Units](#1B-–-Units)\n",
    "2. [Functions](#2-–-Functions)\n",
    "    0. [Model](#2A-–-Model)\n",
    "    0. [Data Processing Functions](#2B-–-Data-Processing-Functions)\n",
    "    0. [Data Analysis Functions](#2C-–-Data-Analysis-Functions)\n",
    "3. [Data](#3-–-Data)\n",
    "    0. [Readings](#3A-–-Readings)\n",
    "    0. [Accepted Values](#3B-–-Accepted-Values)\n",
    "4. [Analysis](#4-–-Analysis)\n",
    "    0. [Correct for Anode Voltage Drop](#4A-–-Correct-for-anode-voltage-drop)\n",
    "    0. [Calculate $B_E$, $B_T$, and $e/m$](#4B-–-Calculate-$B_E$,-$B_T$,-and-$e/m$)\n",
    "    0. [Charge to Mass Ratio](#4C-–-Charge-to-Mass-Ratio)\n",
    "    0. [Local Magnetic Field](#4D-–-Local-Magnetic-Field)\n",
    "    0. [Derivation of Eqn. 4 and $K_{expr}$](#4D-–-Local-Magnetic-Field)"
   ]
  },
  {
   "cell_type": "markdown",
   "metadata": {},
   "source": [
    "# 1 &ndash; Preamble\n",
    "\n",
    "### 1A &ndash; Modules\n",
    "Import NumPy, Matplotlib, SymPy, and more"
   ]
  },
  {
   "cell_type": "code",
   "execution_count": 1,
   "metadata": {
    "collapsed": false
   },
   "outputs": [
    {
     "name": "stdout",
     "output_type": "stream",
     "text": [
      "Populating the interactive namespace from numpy and matplotlib\n"
     ]
    }
   ],
   "source": [
    "%pylab inline\n",
    "import re\n",
    "import sympy\n",
    "from IPython.display import display, Markdown, Latex\n",
    "import requests\n",
    "import scipy.interpolate as interpolate\n",
    "import scipy.stats as stats\n",
    "from scipy.constants import physical_constants, mu_0"
   ]
  },
  {
   "cell_type": "markdown",
   "metadata": {},
   "source": [
    "### 1B &ndash; Units\n",
    "Define units to convert measurements to SI"
   ]
  },
  {
   "cell_type": "code",
   "execution_count": 2,
   "metadata": {
    "collapsed": true
   },
   "outputs": [],
   "source": [
    "m = 1\n",
    "cm = 1e-2*m\n",
    "mm = 1e-3*m\n",
    "V = 1\n",
    "A = 1\n",
    "T = 1\n",
    "nT = 1e-9*T"
   ]
  },
  {
   "cell_type": "markdown",
   "metadata": {},
   "source": [
    "# 2 &ndash; Functions\n",
    "### 2A &ndash; Model"
   ]
  },
  {
   "cell_type": "code",
   "execution_count": 3,
   "metadata": {
    "collapsed": true
   },
   "outputs": [],
   "source": [
    "def B0(K, I):\n",
    "    return K*I"
   ]
  },
  {
   "cell_type": "code",
   "execution_count": 4,
   "metadata": {
    "collapsed": true
   },
   "outputs": [],
   "source": [
    "def B(r, R, B0):\n",
    "    return "
   ]
  },
  {
   "cell_type": "code",
   "execution_count": 5,
   "metadata": {
    "collapsed": true
   },
   "outputs": [],
   "source": [
    "def Kr(B, B0, K):\n",
    "    return B/B0 * K"
   ]
  },
  {
   "cell_type": "code",
   "execution_count": 6,
   "metadata": {
    "collapsed": true
   },
   "outputs": [],
   "source": [
    "def B_T(Kr, I_s, I_l):\n",
    "    return Kr * (I_s + I_l) / 2"
   ]
  },
  {
   "cell_type": "code",
   "execution_count": 7,
   "metadata": {
    "collapsed": true
   },
   "outputs": [],
   "source": [
    "def B_E(Kr, I_s, I_l):\n",
    "    return Kr * (I_s - I_l) / 2"
   ]
  },
  {
   "cell_type": "markdown",
   "metadata": {},
   "source": [
    "$K_r$ expression:\n",
    "\n",
    "Interpolate a function from the provided data table"
   ]
  },
  {
   "cell_type": "code",
   "execution_count": 8,
   "metadata": {
    "collapsed": false
   },
   "outputs": [],
   "source": [
    "# This is the data table provided in the experiment outline.\n",
    "radius_vs_field_table = array([\n",
    "    [0.0, 1],\n",
    "    [0.1, 0.99996],\n",
    "    [0.2, 0.99928],\n",
    "    [0.3, 0.99621],\n",
    "    [0.4, 0.98728],\n",
    "    [0.5, 0.96663],\n",
    "    [0.6, 0.92525],\n",
    "    [0.7, 0.85121],\n",
    "    [0.8, 0.73324],\n",
    "    [0.9, 0.56991],\n",
    "    [1.0, 0.38007]\n",
    "])\n",
    "\n",
    "# Do the interpolation\n",
    "radius_vs_field_interp = interpolate.UnivariateSpline(\n",
    "    # X-values\n",
    "    radius_vs_field_table[:,0],\n",
    "    # Y-values\n",
    "     radius_vs_field_table[:,1]\n",
    ")\n",
    "def K_r(K, r, R):\n",
    "    return radius_vs_field_interp(r/R) * K"
   ]
  },
  {
   "cell_type": "code",
   "execution_count": 9,
   "metadata": {
    "collapsed": true
   },
   "outputs": [],
   "source": [
    "def e_over_m(V, B, r):\n",
    "    return 2*V/(B**2*r**2)"
   ]
  },
  {
   "cell_type": "markdown",
   "metadata": {},
   "source": [
    "### 2B &ndash; Data Processing Functions\n",
    "Subtract $1\\%$ from anode voltage readings:"
   ]
  },
  {
   "cell_type": "code",
   "execution_count": 10,
   "metadata": {
    "collapsed": true
   },
   "outputs": [],
   "source": [
    "def correct_anode_voltage(data):\n",
    "    return data * [0.99, 1]"
   ]
  },
  {
   "cell_type": "markdown",
   "metadata": {},
   "source": [
    "Convert a float into a latex exponential notation: **`latex_exp(2.3e-3)` &rarr; $2.3\\times10^{-3}$**"
   ]
  },
  {
   "cell_type": "code",
   "execution_count": 11,
   "metadata": {
    "collapsed": false
   },
   "outputs": [],
   "source": [
    "def latex_exp(x, pres=2):\n",
    "    exp = int(math.log10(abs(x))) \n",
    "    mant = x / 10**exp * sign(x)\n",
    "    return ('{:.'+str(pres)+'f} \\\\times 10^{{{:d}}}').format(mant, exp)"
   ]
  },
  {
   "cell_type": "markdown",
   "metadata": {},
   "source": [
    "Get the strength of the magnetic field in Teslas using the [NOAA website](http://www.ngdc.noaa.gov/geomag-web/#igrfwmm):"
   ]
  },
  {
   "cell_type": "code",
   "execution_count": 12,
   "metadata": {
    "collapsed": false
   },
   "outputs": [],
   "source": [
    "def get_B_E(year, month, day, lat, long):\n",
    "    url = 'http://www.ngdc.noaa.gov/geomag-web/calculators/calculateIgrfwmm'\n",
    "    response = requests.post(url, data={\n",
    "        'browserRequest': 'true',\n",
    "        'coordinateSystem': 'M',\n",
    "        'dateStepSize': 1.0,\n",
    "        'elevation': 1,\n",
    "        'elevationUnits': 'K',\n",
    "        'endDay': day,\n",
    "        'endMonth': month,\n",
    "        'endYear': year,\n",
    "        'lat1': lat,\n",
    "        'lat1Hemisphere': 'N',\n",
    "        'lon1': long,\n",
    "        'lon1Hemisphere': 'W',\n",
    "        'model': 'WMM',\n",
    "        'resultFormat': 'csv',\n",
    "        'startDay': day,\n",
    "        'startMonth': month,\n",
    "        'startYear': year\n",
    "    })\n",
    "    csv = re.split('[,\\n]', response.text)\n",
    "    return float(csv[-2])*nT, float(csv[-10])*nT"
   ]
  },
  {
   "cell_type": "code",
   "execution_count": 13,
   "metadata": {
    "collapsed": true
   },
   "outputs": [],
   "source": [
    "def display_tabular_data(headers, data):\n",
    "    output = '|'+'|'.join(str(h) for h in headers)+'|\\n' +\\\n",
    "             '|'+'|'.join('-' for h in headers)+'|\\n'\n",
    "    output += '\\n'.join('|'+'|'.join(str(v) for v in row)+'|' for row in data)\n",
    "    return Markdown(output)"
   ]
  },
  {
   "cell_type": "markdown",
   "metadata": {},
   "source": [
    "### 2C &ndash; Data Analysis Functions"
   ]
  },
  {
   "cell_type": "code",
   "execution_count": 14,
   "metadata": {
    "collapsed": true
   },
   "outputs": [],
   "source": [
    "def analyze_paired_data(diam, V, Il, Is):\n",
    "    \n",
    "    # Calculate Kr\n",
    "    Kr = K_r(K, diam/2, R)\n",
    "\n",
    "    # Eath's magnetic field\n",
    "    Be = B_E(Kr, Is, Il)\n",
    "    \n",
    "    # Total field\n",
    "    Bt = B_T(Kr, Is, Il)\n",
    "    \n",
    "    # Charge to mass ratio\n",
    "    em = e_over_m(V, Bt, diam/2)\n",
    "    \n",
    "    return Be, Bt, em"
   ]
  },
  {
   "cell_type": "markdown",
   "metadata": {},
   "source": [
    "# 3 &ndash; Data \n",
    "\n",
    "### 3A &ndash; Readings"
   ]
  },
  {
   "cell_type": "code",
   "execution_count": 15,
   "metadata": {
    "collapsed": true
   },
   "outputs": [],
   "source": [
    "R = 15.4*cm\n",
    "R_err = 5*mm\n",
    "\n",
    "K = 7.73e-4 * T/A\n",
    "K_err = 0.04e-4 *T/A\n",
    "\n",
    "diamter_err = 1.5*mm\n",
    "\n",
    "voltage_err = 0.5*V\n",
    "amperage_err = 0.001*A\n",
    "\n",
    "N = 130\n",
    "\n",
    "# Store our results by diameter, and by pol\n",
    "results = {\n",
    "     8*cm:{},\n",
    "    10*cm:{}\n",
    "}\n",
    "\n",
    "# 10cm radius, pol 1\n",
    "results[10*cm]['pol1'] = array([\n",
    "    [150.00, 0.966],\n",
    "    [170.50, 1.020],\n",
    "    [190.35, 1.068],\n",
    "    [210.00, 1.161],\n",
    "    [230.26, 1.196],\n",
    "    [249.97, 1.275],\n",
    "]) * [V, A] # Specify units\n",
    "\n",
    "# 10cm radius, pol 2\n",
    "results[10*cm]['pol2'] = array([\n",
    "    [150.00, 1.109],\n",
    "    [170.00, 1.157],\n",
    "    [190.35, 1.221],\n",
    "    [210.06, 1.312],\n",
    "    [230.35, 1.335],\n",
    "    [250.27, 1.402],\n",
    "]) * [V, A] # Specify units\n",
    "\n",
    "# 8cm radius, pol 1\n",
    "results[8*cm]['pol1'] = array([\n",
    "    [150.55, 1.176],\n",
    "    [171.63, 1.302],\n",
    "    [191.29, 1.350],\n",
    "    [209.58, 1.434],\n",
    "    [230.36, 1.493],\n",
    "    [250.66, 1.557]\n",
    "]) * [V, A] # Specify units\n",
    "\n",
    "# 8cm radius, pol 2\n",
    "results[8*cm]['pol2'] = array([\n",
    "    [250.14, 1.702],\n",
    "    [230.57, 1.634],\n",
    "    [210.63, 1.578],\n",
    "    [190.70, 1.498],\n",
    "    [170.12, 1.380],\n",
    "    [150.58, 1.360],\n",
    "]) * [V, A] # Specify units"
   ]
  },
  {
   "cell_type": "markdown",
   "metadata": {},
   "source": [
    "### In tabular form:\n",
    "#### 10cm, pol1"
   ]
  },
  {
   "cell_type": "code",
   "execution_count": 16,
   "metadata": {
    "collapsed": false
   },
   "outputs": [
    {
     "data": {
      "text/markdown": [
       "|Volts|Current|\n",
       "|-|-|\n",
       "|150.0|0.966|\n",
       "|170.5|1.02|\n",
       "|190.35|1.068|\n",
       "|210.0|1.161|\n",
       "|230.26|1.196|\n",
       "|249.97|1.275|"
      ],
      "text/plain": [
       "<IPython.core.display.Markdown object>"
      ]
     },
     "execution_count": 16,
     "metadata": {},
     "output_type": "execute_result"
    }
   ],
   "source": [
    "display_tabular_data(\n",
    "    ['Volts', 'Current'],\n",
    "    results[10*cm]['pol1']\n",
    ")"
   ]
  },
  {
   "cell_type": "markdown",
   "metadata": {},
   "source": [
    "#### 10cm, pol2"
   ]
  },
  {
   "cell_type": "code",
   "execution_count": 17,
   "metadata": {
    "collapsed": false
   },
   "outputs": [
    {
     "data": {
      "text/markdown": [
       "|Volts|Current|\n",
       "|-|-|\n",
       "|150.0|1.109|\n",
       "|170.0|1.157|\n",
       "|190.35|1.221|\n",
       "|210.06|1.312|\n",
       "|230.35|1.335|\n",
       "|250.27|1.402|"
      ],
      "text/plain": [
       "<IPython.core.display.Markdown object>"
      ]
     },
     "execution_count": 17,
     "metadata": {},
     "output_type": "execute_result"
    }
   ],
   "source": [
    "display_tabular_data(\n",
    "    ['Volts', 'Current'],\n",
    "    results[10*cm]['pol2']\n",
    ")"
   ]
  },
  {
   "cell_type": "markdown",
   "metadata": {},
   "source": [
    "#### 8cm, pol1"
   ]
  },
  {
   "cell_type": "code",
   "execution_count": 18,
   "metadata": {
    "collapsed": false
   },
   "outputs": [
    {
     "data": {
      "text/markdown": [
       "|Volts|Current|\n",
       "|-|-|\n",
       "|150.55|1.176|\n",
       "|171.63|1.302|\n",
       "|191.29|1.35|\n",
       "|209.58|1.434|\n",
       "|230.36|1.493|\n",
       "|250.66|1.557|"
      ],
      "text/plain": [
       "<IPython.core.display.Markdown object>"
      ]
     },
     "execution_count": 18,
     "metadata": {},
     "output_type": "execute_result"
    }
   ],
   "source": [
    "display_tabular_data(\n",
    "    ['Volts', 'Current'],\n",
    "    results[8*cm]['pol1']\n",
    ")"
   ]
  },
  {
   "cell_type": "markdown",
   "metadata": {},
   "source": [
    "#### 8cm, pol2"
   ]
  },
  {
   "cell_type": "code",
   "execution_count": 19,
   "metadata": {
    "collapsed": false
   },
   "outputs": [
    {
     "data": {
      "text/markdown": [
       "|Volts|Current|\n",
       "|-|-|\n",
       "|250.14|1.702|\n",
       "|230.57|1.634|\n",
       "|210.63|1.578|\n",
       "|190.7|1.498|\n",
       "|170.12|1.38|\n",
       "|150.58|1.36|"
      ],
      "text/plain": [
       "<IPython.core.display.Markdown object>"
      ]
     },
     "execution_count": 19,
     "metadata": {},
     "output_type": "execute_result"
    }
   ],
   "source": [
    "display_tabular_data(\n",
    "    ['Volts', 'Current'],\n",
    "    results[8*cm]['pol2']\n",
    ")"
   ]
  },
  {
   "cell_type": "markdown",
   "metadata": {},
   "source": [
    "\n",
    "### 3A &ndash; Accepted Values"
   ]
  },
  {
   "cell_type": "code",
   "execution_count": 20,
   "metadata": {
    "collapsed": false
   },
   "outputs": [
    {
     "data": {
      "text/markdown": [
       "NOAA reports that $B_E$ is locally 5.0522e-05 $\\pm$ 1.65e-07 T"
      ],
      "text/plain": [
       "<IPython.core.display.Markdown object>"
      ]
     },
     "execution_count": 20,
     "metadata": {},
     "output_type": "execute_result"
    }
   ],
   "source": [
    "(\n",
    "    B_E_accepted,\n",
    "    B_E_accepted_err\n",
    ") = get_B_E(\n",
    "    year=2016,\n",
    "    month=2,\n",
    "    day=3,\n",
    "    lat=44.2253523,\n",
    "    long=76.5009076\n",
    ")\n",
    "Markdown('NOAA reports that $B_E$ is locally {:.4e} $\\pm$ {:.2e} T'.format(\n",
    "    B_E_accepted,\n",
    "    B_E_accepted_err\n",
    "))"
   ]
  },
  {
   "cell_type": "code",
   "execution_count": 21,
   "metadata": {
    "collapsed": false
   },
   "outputs": [
    {
     "data": {
      "text/markdown": [
       "SciPy.constants reports that $e/m$ = 1.758820088e+11 $\\pm$ 3.9e+03"
      ],
      "text/plain": [
       "<IPython.core.display.Markdown object>"
      ]
     },
     "execution_count": 21,
     "metadata": {},
     "output_type": "execute_result"
    }
   ],
   "source": [
    "(\n",
    "    E_M_ratio_accepted,\n",
    "    _, # Skip\n",
    "    E_M_ratio_accepted_err\n",
    ") = physical_constants['electron charge to mass quotient']\n",
    "E_M_ratio_accepted *= -1 # Make it positive instead of negative\n",
    "\n",
    "Markdown('SciPy.constants reports that $e/m$ = {:.9e} $\\pm$ {:.1e}'.format(\n",
    "    E_M_ratio_accepted,\n",
    "        E_M_ratio_accepted_err\n",
    "))"
   ]
  },
  {
   "cell_type": "markdown",
   "metadata": {},
   "source": [
    "# 4 &ndash; Analysis\n",
    "\n",
    "### 4A &ndash; Correct for anode voltage drop"
   ]
  },
  {
   "cell_type": "code",
   "execution_count": 22,
   "metadata": {
    "collapsed": false
   },
   "outputs": [],
   "source": [
    "for radius, data_by_pol in results.items():\n",
    "    for pol, data in data_by_pol.items():\n",
    "        results[radius][pol] = correct_anode_voltage(data)\n"
   ]
  },
  {
   "cell_type": "markdown",
   "metadata": {},
   "source": [
    "### 4B &ndash; Calculate $B_E$, $B_T$, and $e/m$\n",
    "Pair up data from pol1 and pol2 for each diameter"
   ]
  },
  {
   "cell_type": "code",
   "execution_count": 23,
   "metadata": {
    "collapsed": false
   },
   "outputs": [],
   "source": [
    "   \n",
    "# View into results: results pol1 & pol2 for each diameter\n",
    "results_iterator = [\n",
    "    (diam, data_by_pol['pol2'], data_by_pol['pol1'])\n",
    "    for diam, data_by_pol in results.items()\n",
    "]\n",
    "\n",
    "B_E_results = []\n",
    "B_T_results = []\n",
    "E_M_results = []\n",
    "\n",
    "# Loop through each diameter, with pols paired.\n",
    "for diam, data_l, data_s in results_iterator:\n",
    "    \n",
    "    # Select current from data_l, and data_s\n",
    "    Il = data_l[:,1]\n",
    "    Is = data_s[:,1]\n",
    "\n",
    "    # Voltage is the average between the data sets\n",
    "    V  = (data_s[:,0]+data_l[:,0])/2\n",
    "    \n",
    "    Be, Bt, em = analyze_paired_data(diam, V, Il, Is)\n",
    "    \n",
    "    # Append to lists\n",
    "    B_E_results = np.concatenate((B_E_results, Be))\n",
    "    B_T_results = np.concatenate((B_T_results, Bt))\n",
    "    E_M_results = np.concatenate((E_M_results, em))"
   ]
  },
  {
   "cell_type": "markdown",
   "metadata": {},
   "source": [
    "Now take the average of these results, and the error is the standard error on the mean:"
   ]
  },
  {
   "cell_type": "code",
   "execution_count": 24,
   "metadata": {
    "collapsed": false
   },
   "outputs": [],
   "source": [
    "B_E_averaged = -mean(B_E_results)\n",
    "B_E_averaged_err = stats.sem(B_E_results, ddof=1)\n",
    "\n",
    "B_T_averaged = mean(B_T_results)\n",
    "B_T_averaged_err = stats.sem(B_T_results, ddof=1)\n",
    "\n",
    "E_M_averaged = mean(E_M_results)\n",
    "E_M_averaged_err = stats.sem(E_M_results, ddof=1)"
   ]
  },
  {
   "cell_type": "markdown",
   "metadata": {},
   "source": [
    "### 4C &ndash; Charge to Mass Ratio\n",
    "\n",
    "Using the average of all the readings, we get that the charge-to-mass ratio $e/m$ is:"
   ]
  },
  {
   "cell_type": "code",
   "execution_count": 25,
   "metadata": {
    "collapsed": false
   },
   "outputs": [
    {
     "data": {
      "text/markdown": [
       "\n",
       "The calculated charge to mass ratio is: $e/m_{calc} = 1.92 \\times 10^{11} \\pm 2 \\times 10^{9}$\n",
       "\n",
       "The accepted value is  $e/m_{acc} = 1.76 \\times 10^{11} \\pm 4 \\times 10^{3}$"
      ],
      "text/plain": [
       "<IPython.core.display.Markdown object>"
      ]
     },
     "execution_count": 25,
     "metadata": {},
     "output_type": "execute_result"
    }
   ],
   "source": [
    "Markdown(\"\"\"\n",
    "The calculated charge to mass ratio is: $e/m_{{calc}} = {em} \\\\pm {em_d}$\\n\n",
    "The accepted value is  $e/m_{{acc}} = {ema} \\\\pm {ema_d}$\"\"\".format(\n",
    "    em    = latex_exp(E_M_averaged),\n",
    "    em_d  = latex_exp(E_M_averaged_err,0),\n",
    "    ema   = latex_exp(E_M_ratio_accepted),\n",
    "    ema_d = latex_exp(E_M_ratio_accepted_err,0),\n",
    "))"
   ]
  },
  {
   "cell_type": "markdown",
   "metadata": {},
   "source": [
    "Which lies outside the uncertainty bounds.\n"
   ]
  },
  {
   "cell_type": "code",
   "execution_count": 31,
   "metadata": {
    "collapsed": false
   },
   "outputs": [
    {
     "data": {
      "text/markdown": [
       "The percent error relative to the accepted value is $9.4 \\%$"
      ],
      "text/plain": [
       "<IPython.core.display.Markdown object>"
      ]
     },
     "execution_count": 31,
     "metadata": {},
     "output_type": "execute_result"
    }
   ],
   "source": [
    "E_M_percent_err = abs(E_M_averaged-E_M_ratio_accepted)/E_M_ratio_accepted * 100\n",
    "Markdown(\n",
    "    'The percent error relative to the accepted value is ${:.1f} \\%$'\n",
    "    .format(E_M_percent_err))"
   ]
  },
  {
   "cell_type": "markdown",
   "metadata": {},
   "source": [
    "This is a deviation from the expected result.\n",
    "\n",
    "### 4D &ndash; Local Magnetic Field"
   ]
  },
  {
   "cell_type": "code",
   "execution_count": 27,
   "metadata": {
    "collapsed": false
   },
   "outputs": [
    {
     "data": {
      "text/markdown": [
       "\n",
       "The calculated local magnetic field of the Earth is: $B_{E_,calc} = 0.544 \\times 10^{-4} \\pm 0.2 \\times 10^{-4}$\n",
       "\n",
       "The accepted value is  $B_{E_,acc} = 0.505 \\times 10^{-4} \\pm 0 \\times 10^{-6}$"
      ],
      "text/plain": [
       "<IPython.core.display.Markdown object>"
      ]
     },
     "execution_count": 27,
     "metadata": {},
     "output_type": "execute_result"
    }
   ],
   "source": [
    "Markdown(\"\"\"\n",
    "The calculated local magnetic field of the Earth is: $B_{{E_,calc}} = {be} \\\\pm {be_d}$\\n\n",
    "The accepted value is  $B_{{E_,acc}} = {bea} \\\\pm {bea_d}$\"\"\".format(\n",
    "    be   = latex_exp(B_E_averaged,3),\n",
    "    be_d = latex_exp(B_E_averaged_err,1),\n",
    "    bea   = latex_exp(B_E_accepted,3),\n",
    "    bea_d = latex_exp(B_E_accepted_err,0),\n",
    "))"
   ]
  },
  {
   "cell_type": "markdown",
   "metadata": {},
   "source": [
    "The accepted value is within the uncertainty."
   ]
  },
  {
   "cell_type": "code",
   "execution_count": 28,
   "metadata": {
    "collapsed": false
   },
   "outputs": [
    {
     "data": {
      "text/markdown": [
       "The percent error in $B_E$ is: $7.6 \\%$ "
      ],
      "text/plain": [
       "<IPython.core.display.Markdown object>"
      ]
     },
     "execution_count": 28,
     "metadata": {},
     "output_type": "execute_result"
    }
   ],
   "source": [
    "B_E_percent_err = abs(B_E_accepted-B_E_averaged)/B_E_accepted * 100\n",
    "Markdown('The percent error in $B_E$ is: ${:.1f} \\%$ '.format(B_E_percent_err))"
   ]
  },
  {
   "cell_type": "markdown",
   "metadata": {},
   "source": [
    "### 4E &ndash; Derivation of Eq. (4)"
   ]
  },
  {
   "cell_type": "markdown",
   "metadata": {},
   "source": [
    "The following is adapted from [Physics Lab Online](http://dev.physicslab.org/document.aspx?doctype=3&filename=magnetism_biotsavartlaw2.xml):\n",
    "\n",
    "We begin with the Bior-Savart Law:\n",
    "\n",
    "$d \\vec{B} = \\frac{\\mu_0 I d \\vec{l} \\times \\hat{r}}{ 4 \\pi r^2}$\n",
    "\n",
    "We are going to integrate this around each loop for each coil of wire. Our path around the coils will always be perpendicular to $r$, so the cross product becomes the magnitude of $dl$:\n",
    "\n",
    "$\\begin{eqnarray}\n",
    "d \\vec{B} =& \\frac{\\mu_0 I d \\vec{l}}{ 4 \\pi r^2} \n",
    "          =& \\frac{\\mu_0 I d \\vec{l}}{ 4 \\pi (z^2+R^2)}\n",
    "\\end{eqnarray}$\n",
    "\n",
    "Since we are considering the central axis of the coils, it is clear that any horizontal contributions will cancel out due to symetry, do we only need to consider the vertical direction:\n",
    "\n",
    "$\\begin{eqnarray}\n",
    "dB_x =& \\sin(\\theta) dB \n",
    "     =& \\frac{R}{r} dB \n",
    "     =& \\frac{R}{\\sqrt{z^2+R^2}} dB \\\\\n",
    "dB_x =& \\frac{\\mu_0 I d \\vec{l}}{ 4 \\pi (z^2+R^2)^{3/2}}\n",
    "\\end{eqnarray}$\n",
    "\n",
    "Now we integrate around each coil:\n",
    "\n",
    "$\\begin{eqnarray}\n",
    "\\vec B_0 =& \\int_{0}^{2\\pi n}{\\frac{\\mu_0 I d \\vec{l}}{ 4 \\pi (z^2+R^2)^{3/2}}} \\hat{z} \\\\\\\\\n",
    "       =& \\frac{2\\pi n  \\mu_0 I }{ 4 \\pi (z^2+R^2)^{3/2}} \\hat z \\\\\n",
    "       =& \\frac{ n  \\mu_0 I }{ 2 (z^2+R^2)^{3/2}} \\hat z \\\\\n",
    "\\end{eqnarray}$\n",
    "\n",
    "Finally, we have two coils, so we can multiply this final answer by two to get the expected result:\n",
    "\n",
    "$\\vec B_0 = \\frac{ n  \\mu_0 I }{(z^2+R^2)^{3/2}} \\hat z$\n",
    "\n",
    "Which can be simplified to $ B_0 = \\frac{ 8 n  \\mu_0 I }{5^{3/2}R} = KI$ and rearranged to find:\n",
    "\n",
    "$K = \\frac{ 8 n  \\mu_0 }{5^{3/2}R}$"
   ]
  },
  {
   "cell_type": "code",
   "execution_count": 29,
   "metadata": {
    "collapsed": false
   },
   "outputs": [
    {
     "data": {
      "text/latex": [
       "$K_{expr} = 0.759 \\times 10^{-3} \\pm 0.2 \\times 10^{-4}$"
      ],
      "text/plain": [
       "<IPython.core.display.Latex object>"
      ]
     },
     "execution_count": 29,
     "metadata": {},
     "output_type": "execute_result"
    }
   ],
   "source": [
    "K_expr = 8*N*mu_0/(5**1.5 * R)\n",
    "K_expr_err = abs(8*N*mu_0/(5**1.5 * R**2)*R_err)\n",
    "Latex('$K_{{expr}} = {} \\pm {}$'.format(\n",
    "    latex_exp(K_expr,3),\n",
    "    latex_exp(K_expr_err,1)\n",
    "))"
   ]
  },
  {
   "cell_type": "markdown",
   "metadata": {},
   "source": [
    "The manufacturer value for $K$ is:"
   ]
  },
  {
   "cell_type": "code",
   "execution_count": 32,
   "metadata": {
    "collapsed": false
   },
   "outputs": [
    {
     "data": {
      "text/latex": [
       "$K_{expr} = 0.773 \\times 10^{-3} \\pm 0.4 \\times 10^{-5}$"
      ],
      "text/plain": [
       "<IPython.core.display.Latex object>"
      ]
     },
     "execution_count": 32,
     "metadata": {},
     "output_type": "execute_result"
    }
   ],
   "source": [
    "Latex('$K_{{expr}} = {} \\pm {}$'.format(\n",
    "    latex_exp(K,3),\n",
    "    latex_exp(K_err,1)\n",
    "))"
   ]
  },
  {
   "cell_type": "markdown",
   "metadata": {},
   "source": [
    "Which does fall within the uncertainties.\n",
    "\n",
    "The relative error is:"
   ]
  },
  {
   "cell_type": "code",
   "execution_count": 33,
   "metadata": {
    "collapsed": false
   },
   "outputs": [
    {
     "data": {
      "text/latex": [
       "$1.8\\%$"
      ],
      "text/plain": [
       "<IPython.core.display.Latex object>"
      ]
     },
     "execution_count": 33,
     "metadata": {},
     "output_type": "execute_result"
    }
   ],
   "source": [
    "rel_err = abs(K_expr-K)/K*100\n",
    "Latex('${:.1f}\\%$'.format(rel_err))"
   ]
  }
 ],
 "metadata": {
  "kernelspec": {
   "display_name": "Python 3",
   "language": "python",
   "name": "python3"
  },
  "language_info": {
   "codemirror_mode": {
    "name": "ipython",
    "version": 3
   },
   "file_extension": ".py",
   "mimetype": "text/x-python",
   "name": "python",
   "nbconvert_exporter": "python",
   "pygments_lexer": "ipython3",
   "version": "3.5.1"
  }
 },
 "nbformat": 4,
 "nbformat_minor": 0
}
