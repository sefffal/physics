{
 "cells": [
  {
   "cell_type": "code",
   "execution_count": 38,
   "metadata": {
    "collapsed": false
   },
   "outputs": [
    {
     "name": "stdout",
     "output_type": "stream",
     "text": [
      "Populating the interactive namespace from numpy and matplotlib\n"
     ]
    },
    {
     "name": "stderr",
     "output_type": "stream",
     "text": [
      "WARNING: pylab import has clobbered these variables: ['cm']\n",
      "`%matplotlib` prevents importing * from pylab and numpy\n"
     ]
    },
    {
     "data": {
      "text/plain": [
       "<Container object of 3 artists>"
      ]
     },
     "execution_count": 38,
     "metadata": {},
     "output_type": "execute_result"
    },
    {
     "data": {
      "image/png": "[encoded data removed]",
      "text/plain": [
       "<matplotlib.figure.Figure at 0x1dd15e061d0>"
      ]
     },
     "metadata": {},
     "output_type": "display_data"
    }
   ],
   "source": [
    "%pylab inline\n",
    "\n",
    "m = 1\n",
    "cm = 1e-2*m\n",
    "mm = 1e-3*m\n",
    "volts = 1\n",
    "A = 1\n",
    "T = 1\n",
    "\n",
    "R = 15.4*cm\n",
    "R_err = 5*mm\n",
    "\n",
    "K = 7.73e-4 * T/A\n",
    "K_err = 0.04e-4 *T/A\n",
    "\n",
    "diamter_err = 1.5*mm\n",
    "\n",
    "voltage_err = 0.5*volts\n",
    "amperage_err = 0.001*A\n",
    "\n",
    "data_10cm_pol1 = array([\n",
    "    [150.00, 0.966],\n",
    "    [170.50, 1.020],\n",
    "    [190.35, 1.068],\n",
    "    [210.00, 1.161],\n",
    "    [230.26, 1.196],\n",
    "    [249.97, 1.275],\n",
    "])\n",
    "\n",
    "data_10cm_pol2 = array([\n",
    "    [150.00, 1.109],\n",
    "    [170.00, 1.157],\n",
    "    [190.35, 1.221],\n",
    "    [210.06, 1.312],\n",
    "    [230.35, 1.335],\n",
    "    [250.27, 1.402],\n",
    "])\n",
    "\n",
    "\n",
    "data_8cm_pol1 = array([\n",
    "    [150.55, 1.176],\n",
    "    [171.63, 1.302],\n",
    "    [191.29, 1.350],\n",
    "    [209.58, 1.434],\n",
    "    [230.36, 1.493],\n",
    "    [250.66, 1.557]\n",
    "])\n",
    "    \n",
    "data_8cm_pol2 = array([\n",
    "    [250.14, 1.702],\n",
    "    [230.57, 1.634],\n",
    "    [210.63, 1.578],\n",
    "    [190.70, 1.498],\n",
    "    [170.12, 1.380],\n",
    "    [150.58, 1.360],\n",
    "])\n",
    "\n",
    "# pol1 -> against?\n",
    "# pol2 -> with\n",
    "\n",
    "errorbar(data_10cm_pol1[:,0], data_10cm_pol1[:,1],  xerr=voltage_err, yerr=amperage_err)\n",
    "errorbar(data_10cm_pol2[:,0], data_10cm_pol2[:,1],  xerr=voltage_err, yerr=amperage_err)\n",
    "# errorbar(data_8cm_pol1[:,0], data_8cm_pol1[:,1], xerr=voltage_err, yerr=amperage_err )\n",
    "# errorbar(data_8cm_pol2[:,0], data_8cm_pol2[:,1],  xerr=voltage_err, yerr=amperage_err);"
   ]
  },
  {
   "cell_type": "code",
   "execution_count": 39,
   "metadata": {
    "collapsed": true
   },
   "outputs": [],
   "source": [
    "table = array([\n",
    "    [0, 1],\n",
    "    [0.1, 0.99996],\n",
    "    [0.2,0.99928],\n",
    "    [0.3,0.99621],\n",
    "    [0.4,0.98728],\n",
    "    [0.5,0.96663],\n",
    "    [0.6,0.92525],\n",
    "    [0.7,0.85121],\n",
    "    [0.8,0.73324],\n",
    "    [0.9,0.56991],\n",
    "    [1,0.38007]\n",
    "])\n",
    "\n"
   ]
  },
  {
   "cell_type": "code",
   "execution_count": 43,
   "metadata": {
    "collapsed": false
   },
   "outputs": [
    {
     "data": {
      "text/plain": [
       "'1.87994e+11'"
      ]
     },
     "execution_count": 43,
     "metadata": {},
     "output_type": "execute_result"
    }
   ],
   "source": [
    "5*cm/R\n",
    "\n",
    "Kr = 0.99621 * K \n",
    "Be = Kr/2 * (0.966-1.109)\n",
    "Bt = Kr/2 * (0.966+1.109)\n",
    "\n",
    "\n",
    "eM = 2*150*volts /(Bt**2 * (5*cm)**2)\n",
    "\n",
    "'{:.5e}'.format(eM)"
   ]
  },
  {
   "cell_type": "code",
   "execution_count": 41,
   "metadata": {
    "collapsed": false
   },
   "outputs": [
    {
     "data": {
      "text/plain": [
       "0.3246753246753247"
      ]
     },
     "execution_count": 41,
     "metadata": {},
     "output_type": "execute_result"
    }
   ],
   "source": [
    "5*cm/R"
   ]
  },
  {
   "cell_type": "code",
   "execution_count": null,
   "metadata": {
    "collapsed": true
   },
   "outputs": [],
   "source": []
  }
 ],
 "metadata": {
  "kernelspec": {
   "display_name": "Python 3",
   "language": "python",
   "name": "python3"
  },
  "language_info": {
   "codemirror_mode": {
    "name": "ipython",
    "version": 3
   },
   "file_extension": ".py",
   "mimetype": "text/x-python",
   "name": "python",
   "nbconvert_exporter": "python",
   "pygments_lexer": "ipython3",
   "version": "3.5.1"
  }
 },
 "nbformat": 4,
 "nbformat_minor": 0
}
