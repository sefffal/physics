{
 "cells": [
  {
   "cell_type": "markdown",
   "metadata": {},
   "source": [
    "# Worksheet 03&mdash;Ferromagnetic Hysteris\n",
    "William Thompson &nbsp;&nbsp;&nbsp;&nbsp;\n",
    "10091404&nbsp;&nbsp;&nbsp;&nbsp;&nbsp;\n",
    "12wt9@queensu.ca\n",
    "\n",
    "**Table of contents:**\n",
    "0. Preamble\n",
    "0. Data\n",
    "\n",
    "\n",
    "## Preamble\n",
    "Include matplotlib and numpy:"
   ]
  },
  {
   "cell_type": "code",
   "execution_count": 13,
   "metadata": {
    "collapsed": false
   },
   "outputs": [
    {
     "name": "stdout",
     "output_type": "stream",
     "text": [
      "Populating the interactive namespace from numpy and matplotlib\n"
     ]
    }
   ],
   "source": [
    "%pylab inline\n",
    "import pandas as pd\n",
    "import re\n",
    "import sympy\n",
    "from IPython.display import display, Markdown, Latex\n",
    "import requests\n",
    "import scipy.interpolate as interpolate\n",
    "import scipy.stats as stats\n",
    "from scipy.constants import physical_constants"
   ]
  },
  {
   "cell_type": "code",
   "execution_count": null,
   "metadata": {
    "collapsed": true
   },
   "outputs": [],
   "source": []
  },
  {
   "cell_type": "markdown",
   "metadata": {},
   "source": [
    "Define units to make code clearer, and auto-convert quantities to SI:"
   ]
  },
  {
   "cell_type": "code",
   "execution_count": 14,
   "metadata": {
    "collapsed": true
   },
   "outputs": [],
   "source": [
    "m = 1e0      # Meters\n",
    "cm = m*1e-2  # Centimeters\n",
    "V = 1e0      # Volts\n",
    "mV = V*1e-3  # Milivolts"
   ]
  },
  {
   "cell_type": "code",
   "execution_count": null,
   "metadata": {
    "collapsed": true
   },
   "outputs": [],
   "source": [
    "\n",
    "n1=460         # change this in your experiment\n",
    "delta = 333    # change this in your experiment\n",
    "def plotdata(n1, delta):\n",
    "    n2 = n1+delta\n",
    "    n3 = n2+delta\n",
    "    fig = plt.figure(1, figsize=(8,12))\n",
    "    p1 = fig.add_subplot(311)\n",
    "    p1.plot(t, B, 'r', t, H,'b')\n",
    "    p1.plot(t[n1],H[n1],'ro')\n",
    "    p1.plot(t[n2],H[n2],'ro')\n",
    "    p1.plot(t[n3],H[n3],'ro')\n",
    "    p1.set_xlabel('time (s)', fontsize = 16)\n",
    "    p1.set_ylabel('B (V) and H (V)', fontsize = 16)\n",
    "    plt.show()\n",
    "\n",
    "def plotbhcurve():\n",
    "    fig = plt.figure(1, figsize=(8,12))\n",
    "    p2 = fig.add_subplot(312)\n",
    "    p2.plot(H_bot, B_bot, 'r',H_top, B_top, 'b')\n",
    "    p2.set_xlabel('H (V)', fontsize = 16)\n",
    "    p2.set_ylabel('B (V)', fontsize = 16)\n",
    "#     p2.set_ylim(-0.4+Bshift, 0.4+Bshift)\n",
    "#     p2.set_xlim(-0.5+Hshift, 0.5+Hshift)\n",
    "    plt.show()\n",
    "\n",
    "Bshift=0.4\n",
    "Hshift=0.5\n",
    "t_top = t[n1:n2]\n",
    "B_top = B[n1:n2]+Bshift\n",
    "H_top = H[n1:n2]+Hshift\n",
    "t_bot = t[n2:n3]\n",
    "B_bot = B[n2:n3]+Bshift\n",
    "H_bot = H[n2:n3]+Hshift"
   ]
  },
  {
   "cell_type": "markdown",
   "metadata": {},
   "source": [
    "## Data"
   ]
  },
  {
   "cell_type": "code",
   "execution_count": 19,
   "metadata": {
    "collapsed": false
   },
   "outputs": [
    {
     "name": "stdout",
     "output_type": "stream",
     "text": [
      "[1, 2, 3, 4, 5, 6]\n"
     ]
    }
   ],
   "source": [
    "print([1,2,3] + [4,5,6])"
   ]
  },
  {
   "cell_type": "code",
   "execution_count": 15,
   "metadata": {
    "collapsed": false
   },
   "outputs": [],
   "source": [
    "data = np.loadtxt('Iron.CSV', delimiter=',', skiprows=2)\n",
    "\n",
    "X = data[:,0]\n",
    "Y = data[:,1]\n"
   ]
  },
  {
   "cell_type": "code",
   "execution_count": 16,
   "metadata": {
    "collapsed": false
   },
   "outputs": [],
   "source": [
    "#uncertianty: 0.25V\n",
    "# V,mV,mV\n",
    "# readings = array(\n",
    "\n",
    "# ]) * [V, mV, mV]  # Normalize units to Volts \n",
    "\n",
    "readings = pd.DataFrame(\n",
    "    columns=['A', 'B', 'C'],\n",
    "    data = array([V, mV, mV]) *[\n",
    "        [54.0, 410.0,  337.5],\n",
    "        [57.2, 500.0,  343.8],\n",
    "        [61.8, 670.0,  356.3],\n",
    "        [66.4, 820.0,  362.5],\n",
    "        [68.0, 850.0,  362.5],\n",
    "        [71.0, 960.0,  362.5],\n",
    "        [75.0, 1080.0, 368.8],\n",
    "        [80.0, 1200.0, 368.8],\n",
    "        [85.0, 1250.0, 368.8],\n",
    "        [50.0, 300.0,  309.4],\n",
    "        [45.0, 220.0,  287.5],\n",
    "        [40.0, 170.0,  265.6],\n",
    "        [35.0, 130.0,  237.5],\n",
    "        [30.0, 88.0,   206.3],\n",
    "        [25.0, 64.0,   175.0],\n",
    "        [20.0, 49.0,   143.8]]\n",
    ")\n",
    "\n",
    "# Read in CSV data\n",
    "iron = pd.read_csv(\n",
    "    r'./Iron.CSV',\n",
    "    skiprows=[0,1],\n",
    ")\n",
    "iron.columns = ['Time', 'X1', 'X2']\n",
    "\n",
    "steel = pd.read_csv(\n",
    "    r'./Steel.CSV',\n",
    "    skiprows=[0,1],\n",
    ")\n",
    "steel.columns = ['Time', 'X1', 'X2']\n",
    "\n",
    "# Measurements of the iron bar\n",
    "#Iron: L=34.6cm +/- 0.15, A=8.4  +/- 0.21cm\n",
    "iron_length = 34.6*cm\n",
    "iron_length_d = 0.15*cm\n",
    "iron_area = 8.4*cm*cm\n",
    "iron_area_d = 0.21*cm*cm\n",
    "\n",
    "# Measurements of the steel bar\n",
    "#Steel: L=10cm, A=7.1 +/- 0.19cm\n",
    "steel_length = 10*cm\n",
    "steel_length_d = 0.15*cm\n",
    "steel_area = 7.1*cm*cm\n",
    "steel_area_d = 0.218*cm*cm"
   ]
  },
  {
   "cell_type": "markdown",
   "metadata": {},
   "source": [
    "### Readings"
   ]
  },
  {
   "cell_type": "code",
   "execution_count": 186,
   "metadata": {
    "collapsed": false
   },
   "outputs": [
    {
     "data": {
      "text/html": [
       "<div>\n",
       "<table border=\"1\" class=\"dataframe\">\n",
       "  <thead>\n",
       "    <tr style=\"text-align: right;\">\n",
       "      <th></th>\n",
       "      <th>A</th>\n",
       "      <th>B</th>\n",
       "      <th>C</th>\n",
       "    </tr>\n",
       "  </thead>\n",
       "  <tbody>\n",
       "    <tr>\n",
       "      <th>0</th>\n",
       "      <td>54.0</td>\n",
       "      <td>0.410</td>\n",
       "      <td>0.3375</td>\n",
       "    </tr>\n",
       "    <tr>\n",
       "      <th>1</th>\n",
       "      <td>57.2</td>\n",
       "      <td>0.500</td>\n",
       "      <td>0.3438</td>\n",
       "    </tr>\n",
       "    <tr>\n",
       "      <th>2</th>\n",
       "      <td>61.8</td>\n",
       "      <td>0.670</td>\n",
       "      <td>0.3563</td>\n",
       "    </tr>\n",
       "    <tr>\n",
       "      <th>3</th>\n",
       "      <td>66.4</td>\n",
       "      <td>0.820</td>\n",
       "      <td>0.3625</td>\n",
       "    </tr>\n",
       "    <tr>\n",
       "      <th>4</th>\n",
       "      <td>68.0</td>\n",
       "      <td>0.850</td>\n",
       "      <td>0.3625</td>\n",
       "    </tr>\n",
       "    <tr>\n",
       "      <th>5</th>\n",
       "      <td>71.0</td>\n",
       "      <td>0.960</td>\n",
       "      <td>0.3625</td>\n",
       "    </tr>\n",
       "    <tr>\n",
       "      <th>6</th>\n",
       "      <td>75.0</td>\n",
       "      <td>1.080</td>\n",
       "      <td>0.3688</td>\n",
       "    </tr>\n",
       "    <tr>\n",
       "      <th>7</th>\n",
       "      <td>80.0</td>\n",
       "      <td>1.200</td>\n",
       "      <td>0.3688</td>\n",
       "    </tr>\n",
       "    <tr>\n",
       "      <th>8</th>\n",
       "      <td>85.0</td>\n",
       "      <td>1.250</td>\n",
       "      <td>0.3688</td>\n",
       "    </tr>\n",
       "    <tr>\n",
       "      <th>9</th>\n",
       "      <td>50.0</td>\n",
       "      <td>0.300</td>\n",
       "      <td>0.3094</td>\n",
       "    </tr>\n",
       "    <tr>\n",
       "      <th>10</th>\n",
       "      <td>45.0</td>\n",
       "      <td>0.220</td>\n",
       "      <td>0.2875</td>\n",
       "    </tr>\n",
       "    <tr>\n",
       "      <th>11</th>\n",
       "      <td>40.0</td>\n",
       "      <td>0.170</td>\n",
       "      <td>0.2656</td>\n",
       "    </tr>\n",
       "    <tr>\n",
       "      <th>12</th>\n",
       "      <td>35.0</td>\n",
       "      <td>0.130</td>\n",
       "      <td>0.2375</td>\n",
       "    </tr>\n",
       "    <tr>\n",
       "      <th>13</th>\n",
       "      <td>30.0</td>\n",
       "      <td>0.088</td>\n",
       "      <td>0.2063</td>\n",
       "    </tr>\n",
       "    <tr>\n",
       "      <th>14</th>\n",
       "      <td>25.0</td>\n",
       "      <td>0.064</td>\n",
       "      <td>0.1750</td>\n",
       "    </tr>\n",
       "    <tr>\n",
       "      <th>15</th>\n",
       "      <td>20.0</td>\n",
       "      <td>0.049</td>\n",
       "      <td>0.1438</td>\n",
       "    </tr>\n",
       "  </tbody>\n",
       "</table>\n",
       "</div>"
      ],
      "text/plain": [
       "       A      B       C\n",
       "0   54.0  0.410  0.3375\n",
       "1   57.2  0.500  0.3438\n",
       "2   61.8  0.670  0.3563\n",
       "3   66.4  0.820  0.3625\n",
       "4   68.0  0.850  0.3625\n",
       "5   71.0  0.960  0.3625\n",
       "6   75.0  1.080  0.3688\n",
       "7   80.0  1.200  0.3688\n",
       "8   85.0  1.250  0.3688\n",
       "9   50.0  0.300  0.3094\n",
       "10  45.0  0.220  0.2875\n",
       "11  40.0  0.170  0.2656\n",
       "12  35.0  0.130  0.2375\n",
       "13  30.0  0.088  0.2063\n",
       "14  25.0  0.064  0.1750\n",
       "15  20.0  0.049  0.1438"
      ]
     },
     "metadata": {},
     "output_type": "display_data"
    }
   ],
   "source": [
    "display(readings)"
   ]
  },
  {
   "cell_type": "markdown",
   "metadata": {},
   "source": [
    "Summary of iron data:"
   ]
  },
  {
   "cell_type": "code",
   "execution_count": 18,
   "metadata": {
    "collapsed": false,
    "scrolled": false
   },
   "outputs": [
    {
     "data": {
      "image/png": "[encoded data removed]",
      "text/plain": [
       "<matplotlib.figure.Figure at 0x15ab82d32e8>"
      ]
     },
     "metadata": {},
     "output_type": "display_data"
    }
   ],
   "source": [
    "iron.plot.scatter('X1', 'X2', marker='.');"
   ]
  },
  {
   "cell_type": "markdown",
   "metadata": {},
   "source": [
    "Summary of steel data:"
   ]
  },
  {
   "cell_type": "code",
   "execution_count": 17,
   "metadata": {
    "collapsed": false
   },
   "outputs": [
    {
     "data": {
      "image/png": "[encoded data removed]",
      "text/plain": [
       "<matplotlib.figure.Figure at 0x15ab8137b38>"
      ]
     },
     "metadata": {},
     "output_type": "display_data"
    }
   ],
   "source": [
    "steel.plot.scatter('X1', 'X2');"
   ]
  },
  {
   "cell_type": "code",
   "execution_count": null,
   "metadata": {
    "collapsed": false
   },
   "outputs": [],
   "source": [
    "steel.hist('X1', 'X2')"
   ]
  },
  {
   "cell_type": "code",
   "execution_count": null,
   "metadata": {
    "collapsed": true
   },
   "outputs": [],
   "source": []
  }
 ],
 "metadata": {
  "kernelspec": {
   "display_name": "Python 3",
   "language": "python",
   "name": "python3"
  },
  "language_info": {
   "codemirror_mode": {
    "name": "ipython",
    "version": 3
   },
   "file_extension": ".py",
   "mimetype": "text/x-python",
   "name": "python",
   "nbconvert_exporter": "python",
   "pygments_lexer": "ipython3",
   "version": "3.5.1"
  }
 },
 "nbformat": 4,
 "nbformat_minor": 0
}
