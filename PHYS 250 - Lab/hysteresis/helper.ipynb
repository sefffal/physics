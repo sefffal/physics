{
 "cells": [
  {
   "cell_type": "markdown",
   "metadata": {},
   "source": [
    "# Ferromagnetic Hysterisis \n",
    "PHYS250 Alastair McLean\n",
    "\n",
    "This Python Notebook allows you to calculate the area enclosed by the B-H curve in a hysterisis loop. The Excel file contains the measured voltages. You have to calculate B and H using the calibration factors. See the experimental outline. \n"
   ]
  },
  {
   "cell_type": "code",
   "execution_count": 1,
   "metadata": {
    "collapsed": false
   },
   "outputs": [],
   "source": [
    "import numpy as np\n",
    "import matplotlib.pyplot as plt\n",
    "%matplotlib inline"
   ]
  },
  {
   "cell_type": "markdown",
   "metadata": {},
   "source": [
    "Read data from data Excel saved as a tab delimited text file.\n",
    "Three columns are output with a 2 line header. You will have to change the following line to input your data. Modify the address of the file to match your directory structure. "
   ]
  },
  {
   "cell_type": "code",
   "execution_count": 2,
   "metadata": {
    "collapsed": true
   },
   "outputs": [],
   "source": [
    "t, H, B = np.loadtxt('Steel.CSV', delimiter=',', skiprows=2, unpack=True)"
   ]
  },
  {
   "cell_type": "markdown",
   "metadata": {},
   "source": [
    "Create a figure for plotting the B-H data,\n",
    "Three points are added to identify the upper and lower parts of the B-H loop."
   ]
  },
  {
   "cell_type": "code",
   "execution_count": 10,
   "metadata": {
    "collapsed": false
   },
   "outputs": [
    {
     "data": {
      "image/png": "[encoded data removed]",
      "text/plain": [
       "<matplotlib.figure.Figure at 0x13e7abd6be0>"
      ]
     },
     "metadata": {},
     "output_type": "display_data"
    }
   ],
   "source": [
    "\n",
    "# Iron:\n",
    "n1=460         # change this in your experiment\n",
    "delta = 333    # change this in your experiment\n",
    "\n",
    "# n1=275         # change this in your experiment\n",
    "# delta = 105    # change this in your experiment\n",
    "\n",
    "n2 = n1+delta\n",
    "n3 = n2+delta\n",
    "def plotdata():\n",
    "    fig = plt.figure(1, figsize=(8,12))\n",
    "    p1 = fig.add_subplot(311)\n",
    "    p1.plot(t, B, 'r', t, H,'b')\n",
    "    p1.plot(t[n1],H[n1],'ro')\n",
    "    p1.plot(t[n2],H[n2],'ro')\n",
    "    p1.plot(t[n3],H[n3],'ro')\n",
    "    p1.set_xlabel('time (s)', fontsize = 16)\n",
    "    p1.set_ylabel('B (V) and H (V)', fontsize = 16)\n",
    "#     p1.set_ylim([0.5, 0.65])\n",
    "    p1.set_xlim([-0.0004, -0.0001])\n",
    "    plt.show()\n",
    "plotdata()"
   ]
  },
  {
   "cell_type": "code",
   "execution_count": null,
   "metadata": {
    "collapsed": false
   },
   "outputs": [],
   "source": []
  },
  {
   "cell_type": "markdown",
   "metadata": {},
   "source": [
    "Printing out these values allows the max/min to be located. Check that the max/min is centered in this range"
   ]
  },
  {
   "cell_type": "code",
   "execution_count": 11,
   "metadata": {
    "collapsed": false
   },
   "outputs": [
    {
     "name": "stdout",
     "output_type": "stream",
     "text": [
      "(0.10273, -0.10391, 0.10313)\n",
      "(0.10273, -0.10352, 0.10273)\n",
      "(0.10273, -0.10391, 0.10273)\n",
      "(0.10273, -0.10352, 0.10273)\n",
      "(0.10273, -0.10313, 0.10313)\n",
      "(0.10313, -0.10273, 0.10273)\n",
      "(0.10273, -0.10273, 0.10313)\n",
      "(0.10273, -0.10234, 0.10273)\n",
      "(0.10234, -0.10273, 0.10313)\n",
      "(0.10273, -0.10273, 0.10273)\n"
     ]
    }
   ],
   "source": [
    "for r in range(-5,+5):\n",
    "    print((H[n1+r],H[n2+r],H[n3+r]))"
   ]
  },
  {
   "cell_type": "markdown",
   "metadata": {},
   "source": [
    "These values are chosen to shift all B and H values into the positive quadrant."
   ]
  },
  {
   "cell_type": "code",
   "execution_count": 12,
   "metadata": {
    "collapsed": true
   },
   "outputs": [],
   "source": [
    "Bshift=0.4\n",
    "Hshift=0.5\n",
    "t_top = t[n1:n2]\n",
    "B_top = B[n1:n2]+Bshift\n",
    "H_top = H[n1:n2]+Hshift\n",
    "t_bot = t[n2:n3]\n",
    "B_bot = B[n2:n3]+Bshift\n",
    "H_bot = H[n2:n3]+Hshift"
   ]
  },
  {
   "cell_type": "markdown",
   "metadata": {},
   "source": [
    "Create a figure and plot the B-H data"
   ]
  },
  {
   "cell_type": "code",
   "execution_count": 13,
   "metadata": {
    "collapsed": false
   },
   "outputs": [],
   "source": [
    "def plotbhcurve():\n",
    "    fig = plt.figure(1, figsize=(8,12))\n",
    "    p2 = fig.add_subplot(312)\n",
    "    p2.plot(H_bot, B_bot, 'r',H_top, B_top, 'b')\n",
    "    p2.set_xlabel('H (V)', fontsize = 16)\n",
    "    p2.set_ylabel('B (V)', fontsize = 16)\n",
    "#     p2.set_ylim(-0.4+Bshift, 0.4+Bshift)\n",
    "#     p2.set_xlim(-0.5+Hshift, 0.5+Hshift)\n",
    "    plt.show()"
   ]
  },
  {
   "cell_type": "code",
   "execution_count": 14,
   "metadata": {
    "collapsed": false
   },
   "outputs": [
    {
     "data": {
      "image/png": "[encoded data removed]",
      "text/plain": [
       "<matplotlib.figure.Figure at 0x13e7b1e7630>"
      ]
     },
     "metadata": {},
     "output_type": "display_data"
    }
   ],
   "source": [
    "plotbhcurve()"
   ]
  },
  {
   "cell_type": "markdown",
   "metadata": {},
   "source": [
    "Calculate the area enclosed by the B-H curve. Note that the Excel file contains voltages. To calculate B and H you have to multiply B and H by the calibration factors. "
   ]
  },
  {
   "cell_type": "code",
   "execution_count": 54,
   "metadata": {
    "collapsed": false,
    "slideshow": {
     "slide_type": "slide"
    }
   },
   "outputs": [],
   "source": [
    "def calculatearea():\n",
    "    max = len(t_bot)\n",
    "    area_top=0\n",
    "    area_bot=0\n",
    "    for r in range(0,max-1):\n",
    "        area_bot+=0.5*abs(B_bot[r]+B_bot[r+1])*abs(H_bot[r+1]-H_bot[r])\n",
    "        area_top+=0.5*abs(B_top[r]+B_top[r+1])*abs(H_top[r+1]-H_top[r])\n",
    "    print('Area =',abs(area_bot-area_top))\n",
    "    return (abs(area_bot-area_top))"
   ]
  },
  {
   "cell_type": "code",
   "execution_count": 55,
   "metadata": {
    "collapsed": false
   },
   "outputs": [
    {
     "name": "stdout",
     "output_type": "stream",
     "text": [
      "Area = 0.00407201020615\n"
     ]
    }
   ],
   "source": [
    "area = calculatearea()"
   ]
  },
  {
   "cell_type": "code",
   "execution_count": null,
   "metadata": {
    "collapsed": true
   },
   "outputs": [],
   "source": [
    "a = arange(0,10)\n",
    "a"
   ]
  }
 ],
 "metadata": {
  "kernelspec": {
   "display_name": "Python 3",
   "language": "python",
   "name": "python3"
  },
  "language_info": {
   "codemirror_mode": {
    "name": "ipython",
    "version": 3
   },
   "file_extension": ".py",
   "mimetype": "text/x-python",
   "name": "python",
   "nbconvert_exporter": "python",
   "pygments_lexer": "ipython3",
   "version": "3.5.1"
  }
 },
 "nbformat": 4,
 "nbformat_minor": 0
}
