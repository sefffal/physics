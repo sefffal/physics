{
 "cells": [
  {
   "cell_type": "markdown",
   "metadata": {},
   "source": [
    "# One Dimensional Wave Equation\n",
    "Alastair McLean\n",
    "\n",
    "This animation was based on code I found on Stack Exchange (somewhere I don't know where now!). On a mac it is necessary to download ffmpeg from http://ffmpegmac.net/. Then move the ffmpeg file to the Anaconda /bin/ directory. \n",
    "\n",
    "It may also be necessary to install the XQuartz tools from http://www.xquartz.org/. Just follow the instructions. Once both of these tools are installed it will work!\n",
    "\n",
    "A clear description of what is happening in this animation can be found on Dan Russel's excellent web page. \n",
    "\n",
    "http://www.acs.psu.edu/drussell/Demos/Membrane-vs-String/Membrane-vs-String.html\n",
    "\n",
    "**1D String**\n",
    "Waves on a one-dimensional string are a superposition of right-going and left-going waves. So, an initial displacement pulse on a string immediately separates itself into two individual pulses of equal shape and amplitude, one traveling to the right and the other traveling to the left. Both pulses travel with constant speed and maintain a constant shape and amplitude as they travel away from each other along the string. The center of the string returns to its zero equilibrium position."
   ]
  },
  {
   "cell_type": "code",
   "execution_count": 14,
   "metadata": {
    "collapsed": true
   },
   "outputs": [],
   "source": [
    "import numpy as np                            # numerical arrays\n",
    "import matplotlib.pyplot as plt               # plotting\n",
    "import matplotlib.animation as animation      # animation \n",
    "from scipy.stats import norm                  # for gaussian pulse\n",
    "import matplotlib.cm as cm                    # color maps"
   ]
  },
  {
   "cell_type": "markdown",
   "metadata": {},
   "source": [
    "### Functions"
   ]
  },
  {
   "cell_type": "code",
   "execution_count": 15,
   "metadata": {
    "collapsed": false
   },
   "outputs": [],
   "source": [
    "def kn(n):\n",
    "    return n*np.pi/xmax\n",
    "\n",
    "def gaussian_init(x):\n",
    "    val = norm.pdf(x, loc = 5, scale= 0.4)\n",
    "    if val<.001:\n",
    "        return 0.0\n",
    "    else:\n",
    "        return val\n",
    "\n",
    "def twogaussians_init(x):\n",
    "    val = norm.pdf(x, loc = 4, scale= 0.3) + norm.pdf(x, loc = 6, scale= 0.3)\n",
    "    if val<.001:\n",
    "        return 0.0\n",
    "    else:\n",
    "        return val\n",
    "\n",
    "def harmonic_init(x, n):\n",
    "    return np.sin(n*kn*x)\n",
    "\n",
    "def superposition_init(x):\n",
    "    return np.sin(kn*x)+np.sin(2*kn*x)+np.sin(3*kn*x)\n",
    "        \n",
    "def quadratic_init(x):\n",
    "    return x*(xmax-x)\n",
    "\n",
    "def animate(fstr, save):\n",
    "    fig = plt.figure()\n",
    "    plts = []           \n",
    "    plt.hold(\"off\")\n",
    "    for i in range(nt):\n",
    "        p, = plt.plot(u[i,:], 'k')  \n",
    "        plts.append( [p] )          \n",
    "    ani = animation.ArtistAnimation(fig, plts, interval=50, repeat_delay=3000) \n",
    "    if save == True:\n",
    "        ani.save('07-' + fstr + '.mp4')   \n",
    "    plt.show()\n",
    "    \n",
    "def showwave(fstr, save):\n",
    "    mycmap = [cm.RdYlGn,cm.afmhot] # two options\n",
    "    plt.imshow(u, interpolation='bilinear', cmap=mycmap[1], origin='lower', \n",
    "                extent=[0,nt,0,nx], vmax=abs(u).max(), vmin=-abs(u).max())\n",
    "    if save == True:\n",
    "        plt.savefig('07-' + fstr + '.png', dpi=400)\n",
    "    plt.show()\n",
    "                    \n",
    "def simulatedynamics():\n",
    "    for t in range(1, nt-1):\n",
    "        for a in range(1,nx-1):\n",
    "            u[t+1,a] = 2*(1-rsq)*u[t,a]-u[t-1,a]+rsq*(u[t,a-1]+u[t,a+1])\n",
    "            \n",
    "def initializefunction(function):\n",
    "    for a in range(0, nx):\n",
    "        if function == 'onegaussian':\n",
    "            u[0, a] = gaussian_init(xmin+a*dx)\n",
    "            u[1, a] = u[0, a]   \n",
    "        if function == 'twogaussians':\n",
    "            u[0, a] = twogaussians_init(xmin+a*dx)\n",
    "            u[1, a] = u[0, a]  \n",
    "        if function == 'quadratic': \n",
    "            u[0, a] = quadratic_init(xmin+a*dx)\n",
    "            u[1, a] = u[0, a]       \n",
    "        if function == 'firstharmonic':\n",
    "            u[0, a] = harmonic_init(xmin+a*dx, 1)\n",
    "            u[1, a] = u[0, a]        \n",
    "        if function == 'secondharmonic':\n",
    "            u[0, a] = harmonic_init(xmin+a*dx, 2)\n",
    "            u[1, a] = u[0, a]          \n",
    "        if function == 'thirdharmonic':\n",
    "            u[0, a] = harmonic_init(xmin+a*dx, 3)\n",
    "            u[1, a] = u[0, a]   \n",
    "        if function == 'fourthharmonic':\n",
    "            u[0, a] = harmonic_init(xmin+a*dx, 4)\n",
    "            u[1, a] = u[0, a]          \n",
    "        if function == 'fifthharmonic':\n",
    "            u[0, a] = harmonic_init(xmin+a*dx, 5)\n",
    "            u[1, a] = u[0, a]  \n",
    "        if function == 'superposition':\n",
    "            u[0, a] = superposition_init(xmin+a*dx)\n",
    "            u[1, a] = u[0, a]"
   ]
  },
  {
   "cell_type": "markdown",
   "metadata": {},
   "source": [
    "### The parameters"
   ]
  },
  {
   "cell_type": "code",
   "execution_count": 16,
   "metadata": {
    "collapsed": false
   },
   "outputs": [],
   "source": [
    "dx = 0.01                    # x increment [0.01]\n",
    "dt = 0.01                    # t increment [0.01]\n",
    "tmin = 0.0                   # start time [0.0]\n",
    "tmax = 10.0                  # stop time [10.0]\n",
    "xmin = 0.0                   # minimum x value [0.0]\n",
    "xmax = 10.0                  # maximum x value [10.0]\n",
    "c = 1.0                      # speed of sound [1.0]\n",
    "rsq = (c*dt/dx)**2           # finite difference solution\n",
    "k = 2*np.pi/xmax             # wavevector - do not change\n",
    "kn = k/2                     # used to calculate harmonics\n",
    "global fstr                  # function string\n",
    "nx = int((xmax-xmin)/dx) + 1 # number of points on x grid\n",
    "nt = int((tmax-tmin)/dt) + 2 # number of points on t grid\n",
    "u = np.zeros((nt, nx))       # solution to WE"
   ]
  },
  {
   "cell_type": "markdown",
   "metadata": {},
   "source": [
    "### Simulate the dynamics"
   ]
  },
  {
   "cell_type": "code",
   "execution_count": 17,
   "metadata": {
    "collapsed": true
   },
   "outputs": [],
   "source": [
    "thefunctions = ['onegaussian', 'twogaussians', 'quadratic',\\\n",
    "                'firstharmonic','secondharmonic', 'thirdharmonic',\\\n",
    "                'fourthharmonic', 'fifthharmonic','superposition' ]"
   ]
  },
  {
   "cell_type": "code",
   "execution_count": 18,
   "metadata": {
    "collapsed": false
   },
   "outputs": [],
   "source": [
    "fstr = thefunctions[3]\n",
    "initializefunction(fstr)\n",
    "simulatedynamics()\n",
    "animate(fstr, False)"
   ]
  },
  {
   "cell_type": "code",
   "execution_count": 19,
   "metadata": {
    "collapsed": false
   },
   "outputs": [],
   "source": [
    "showwave(fstr, True)"
   ]
  },
  {
   "cell_type": "code",
   "execution_count": null,
   "metadata": {
    "collapsed": true
   },
   "outputs": [],
   "source": []
  }
 ],
 "metadata": {
  "kernelspec": {
   "display_name": "Python 3",
   "language": "python",
   "name": "python3"
  },
  "language_info": {
   "codemirror_mode": {
    "name": "ipython",
    "version": 3
   },
   "file_extension": ".py",
   "mimetype": "text/x-python",
   "name": "python",
   "nbconvert_exporter": "python",
   "pygments_lexer": "ipython3",
   "version": "3.4.4"
  }
 },
 "nbformat": 4,
 "nbformat_minor": 0
}
