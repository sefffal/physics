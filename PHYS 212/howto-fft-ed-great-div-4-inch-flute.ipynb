{
 "cells": [
  {
   "cell_type": "markdown",
   "metadata": {},
   "source": [
    "# Fast Fourier Transform great-div-4-inch-flute"
   ]
  },
  {
   "cell_type": "markdown",
   "metadata": {},
   "source": [
    "### Alastair McLean"
   ]
  },
  {
   "cell_type": "markdown",
   "metadata": {},
   "source": [
    "From Ed."
   ]
  },
  {
   "cell_type": "code",
   "execution_count": 41,
   "metadata": {
    "collapsed": true
   },
   "outputs": [],
   "source": [
    "import numpy as np\n",
    "from scipy import fftpack\n",
    "import matplotlib.pyplot as plt\n",
    "%matplotlib inline"
   ]
  },
  {
   "cell_type": "markdown",
   "metadata": {},
   "source": [
    "### Functions"
   ]
  },
  {
   "cell_type": "code",
   "execution_count": 42,
   "metadata": {
    "collapsed": true
   },
   "outputs": [],
   "source": [
    "def w(f):\n",
    "    return 2*np.pi * f"
   ]
  },
  {
   "cell_type": "code",
   "execution_count": 43,
   "metadata": {
    "collapsed": true
   },
   "outputs": [],
   "source": [
    "def powerspectrum(real, imag):\n",
    "    return np.sqrt(real**2+imag**2)"
   ]
  },
  {
   "cell_type": "markdown",
   "metadata": {},
   "source": [
    "### This code is a modified version of sample code from effbot.org"
   ]
  },
  {
   "cell_type": "markdown",
   "metadata": {},
   "source": [
    "http://effbot.org/librarybook/aifc.htm"
   ]
  },
  {
   "cell_type": "markdown",
   "metadata": {},
   "source": [
    "- The sampwidth is the size of each sample in bytes. This is converted to bits below. \n",
    "- The samplingrate is the number of times a second the audio file is sampled.\n",
    "- nframes is the number of samples that were taken"
   ]
  },
  {
   "cell_type": "code",
   "execution_count": 44,
   "metadata": {
    "collapsed": false
   },
   "outputs": [
    {
     "name": "stdout",
     "output_type": "stream",
     "text": [
      "stereo,\n",
      "24 bits,\n",
      "Sampling rate = 48000 Hz\n",
      "Sampling interval = 1.042e-05 s\n",
      "Size of audio file = 1729536 bytes\n"
     ]
    }
   ],
   "source": [
    "import aifc\n",
    "\n",
    "#a = aifc.open(\"../audio/ed-great-div-4-inch-flute.aif\", \"r\")\n",
    "a = aifc.open(\"../audio/ed-great-div.-8-inch-principal.aif\", \"r\")\n",
    "#a = aifc.open(\"../audio/ed-pedal-div-16-inch-principal.aif\", \"r\")\n",
    "#a = aifc.open(\"../audio/ed-pedal-div-16-sub-bass.aif\", \"r\")\n",
    "#a = aifc.open(\"../audio/ed-positiv-div-4-inch-flute.aif\", \"r\")\n",
    "#a = aifc.open(\"../audio/ed-positiv-div-8-inch-flute.aif\", \"r\")\n",
    "\n",
    "\n",
    "if a.getnchannels() == 1:\n",
    "    print(\"mono,\"),\n",
    "else:\n",
    "    print(\"stereo,\"),\n",
    "    \n",
    "sampwidth = a.getsampwidth()*8 \n",
    "samplingrate = a.getframerate()\n",
    "nframes = a.getnframes()\n",
    "data = a.readframes(nframes)\n",
    "\n",
    "factor = 2.0 # gives the correct frequency for my recordings\n",
    "dt = 1/(factor*samplingrate)   \n",
    "\n",
    "print(sampwidth , \"bits,\")\n",
    "print(\"Sampling rate =\", samplingrate, \"Hz\" )\n",
    "print(\"Sampling interval = {:6.3e} s\".format(dt))\n",
    "print(\"Size of audio file =\", len(data), \"bytes\")"
   ]
  },
  {
   "cell_type": "markdown",
   "metadata": {},
   "source": [
    "### Convert to numpy array"
   ]
  },
  {
   "cell_type": "markdown",
   "metadata": {},
   "source": [
    "This code converts the audio file into a numpy array. I use the shape command to see how many samples (points) are in the audio file. I also divide the data set by the maximum value because the absolute amplitude of the wave is not important in this example. "
   ]
  },
  {
   "cell_type": "code",
   "execution_count": 45,
   "metadata": {
    "collapsed": false
   },
   "outputs": [
    {
     "name": "stdout",
     "output_type": "stream",
     "text": [
      "(864768,)\n"
     ]
    }
   ],
   "source": [
    "y = np.fromstring(data, np.short).byteswap()\n",
    "y = y/y.max()\n",
    "print(y.shape)"
   ]
  },
  {
   "cell_type": "markdown",
   "metadata": {},
   "source": [
    "I plot the audio file to check if there are parts of the file that I should omit. In this case the file is actually longer than the recordings and I have some zeros at the end that I should not include in the fourier transform."
   ]
  },
  {
   "cell_type": "code",
   "execution_count": 46,
   "metadata": {
    "collapsed": false
   },
   "outputs": [
    {
     "data": {
      "image/png": "[encoded data removed]",
      "text/plain": [
       "<matplotlib.figure.Figure at 0x106d46dd8>"
      ]
     },
     "metadata": {},
     "output_type": "display_data"
    }
   ],
   "source": [
    "plt.figure(0, figsize=(10, 4))\n",
    "plt.plot(y, label = 'Audio')\n",
    "plt.legend(loc='upper right')\n",
    "plt.show()"
   ]
  },
  {
   "cell_type": "markdown",
   "metadata": {},
   "source": [
    "I decide to truncate the file at 700000."
   ]
  },
  {
   "cell_type": "code",
   "execution_count": 47,
   "metadata": {
    "collapsed": false
   },
   "outputs": [
    {
     "name": "stdout",
     "output_type": "stream",
     "text": [
      "(700000,)\n"
     ]
    }
   ],
   "source": [
    "wave = y[100000: 800000]\n",
    "print(wave.shape)"
   ]
  },
  {
   "cell_type": "markdown",
   "metadata": {},
   "source": [
    "Here is a plot of the truncated file with the zeros at the end of the recording eliminated."
   ]
  },
  {
   "cell_type": "code",
   "execution_count": 48,
   "metadata": {
    "collapsed": false
   },
   "outputs": [
    {
     "data": {
      "image/png": "[encoded data removed]",
      "text/plain": [
       "<matplotlib.figure.Figure at 0x1051c7470>"
      ]
     },
     "metadata": {},
     "output_type": "display_data"
    }
   ],
   "source": [
    "plt.figure(0, figsize=(10, 4))\n",
    "plt.plot(wave, label = 'Audio')\n",
    "plt.legend(loc='upper right')\n",
    "plt.show()"
   ]
  },
  {
   "cell_type": "markdown",
   "metadata": {},
   "source": [
    "### Calculate the power spectrum of the audio file"
   ]
  },
  {
   "cell_type": "markdown",
   "metadata": {},
   "source": [
    "First, the Fourier transform of the wave is calculated. This has a real and an imaginary part. To plot the power spectrum we have to calculate the modulus of the complex number. "
   ]
  },
  {
   "cell_type": "code",
   "execution_count": 49,
   "metadata": {
    "collapsed": false
   },
   "outputs": [],
   "source": [
    "wavefft = fftpack.fft(wave)                      # FFT of the wave\n",
    "f = fftpack.fftfreq(wave.size, dt)               # frequencies \n",
    "f = fftpack.fftshift(f)                          # shift frequencies from min to max\n",
    "wavefftshift = fftpack.fftshift(wavefft)         # shift wavefft order to correspond to f\n",
    "power = powerspectrum(np.real(wavefftshift), np.imag(wavefftshift))  # calculate the power spectrum"
   ]
  },
  {
   "cell_type": "markdown",
   "metadata": {},
   "source": [
    "### A vector to hold the time values"
   ]
  },
  {
   "cell_type": "code",
   "execution_count": 50,
   "metadata": {
    "collapsed": false
   },
   "outputs": [],
   "source": [
    "t = np.arange(start = 0., stop = dt * wave.size, step = dt)"
   ]
  },
  {
   "cell_type": "markdown",
   "metadata": {},
   "source": [
    "### Plot the audio file and the power spectrum"
   ]
  },
  {
   "cell_type": "code",
   "execution_count": 51,
   "metadata": {
    "collapsed": false
   },
   "outputs": [
    {
     "data": {
      "image/png": "[encoded data removed]",
      "text/plain": [
       "<matplotlib.figure.Figure at 0x1051c2b00>"
      ]
     },
     "metadata": {},
     "output_type": "display_data"
    }
   ],
   "source": [
    "fig = plt.figure(1, figsize=(10,6), frameon = False)\n",
    "#fig.add_subplot(211)\n",
    "#wave_max = 1.1*np.max(wave)\n",
    "#wave_min = 1.1*np.min(wave)\n",
    "##plt.plot(t, wave, color='blue', label='Audio')\n",
    "#plt.legend(loc='upper right')\n",
    "#plt.xlabel('time / s', fontsize = 16)\n",
    "#plt.ylabel('amplitude', fontsize = 16)\n",
    "#fraction = 0.2 # the fraction of the file to plot\n",
    "#plt.axis([0., fraction*dt*wave.size, wave_min, wave_max])\n",
    "\n",
    "fig.add_subplot(211)\n",
    "power_max = 1.1*np.max(power)\n",
    "plt.plot(f, power, color='blue', label='power spectrum')\n",
    "plt.legend(loc='upper right')\n",
    "plt.xlabel('frequency / Hz', fontsize = 16)\n",
    "plt.ylabel('power', fontsize = 16)\n",
    "plt.axis([0, 1000., 0, power_max])\n",
    "\n",
    "fig.add_subplot(212)\n",
    "power_max = 1.1*np.max(power)\n",
    "plt.plot(f, power, color='blue', label='power spectrum')\n",
    "plt.legend(loc='upper right')\n",
    "plt.xlabel('frequency / Hz', fontsize = 16)\n",
    "plt.ylabel('power', fontsize = 16)\n",
    "plt.axis([140, 300., 0, power_max])\n",
    "\n",
    "fig.tight_layout() # creates space\n",
    "##plt.savefig('ed-great-div-4-inch-flute.png', dpi=300)\n",
    "#plt.savefig('ed-great-div-4-inch-flute.pdf')\n",
    "plt.show()"
   ]
  },
  {
   "cell_type": "code",
   "execution_count": null,
   "metadata": {
    "collapsed": true
   },
   "outputs": [],
   "source": []
  }
 ],
 "metadata": {
  "kernelspec": {
   "display_name": "Python 3",
   "language": "python",
   "name": "python3"
  },
  "language_info": {
   "codemirror_mode": {
    "name": "ipython",
    "version": 3
   },
   "file_extension": ".py",
   "mimetype": "text/x-python",
   "name": "python",
   "nbconvert_exporter": "python",
   "pygments_lexer": "ipython3",
   "version": "3.4.3"
  }
 },
 "nbformat": 4,
 "nbformat_minor": 0
}
