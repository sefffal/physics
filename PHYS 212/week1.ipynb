{
 "cells": [
  {
   "cell_type": "markdown",
   "metadata": {},
   "source": [
    "# 01 Python Exercises"
   ]
  },
  {
   "cell_type": "markdown",
   "metadata": {},
   "source": [
    "Alastair McLean"
   ]
  },
  {
   "cell_type": "markdown",
   "metadata": {},
   "source": [
    "### Covering\n",
    "*Periodic motions* and introducing concepts from *The superposition of periodic motions*"
   ]
  },
  {
   "cell_type": "code",
   "execution_count": 1,
   "metadata": {
    "collapsed": false
   },
   "outputs": [],
   "source": [
    "import numpy as np                    # the numerical python module. \n",
    "import matplotlib.pyplot as plt       # this is the standard python mathematical plotting package\n",
    "import scipy.constants as constants   # this module contains lists of physical constants\n",
    "# this instruction will place all plots in the notebook and not in an external window\n",
    "%matplotlib inline\n",
    "\n"
   ]
  },
  {
   "cell_type": "markdown",
   "metadata": {},
   "source": [
    "### Introduction"
   ]
  },
  {
   "cell_type": "markdown",
   "metadata": {},
   "source": [
    "To do the examples in this assignment, there are some basic Python skills you will need to master. The first skill is to be able to define a function. You will also need to know how to plot functions using matplotlib. I will show you how to do both and once you have mastered these two skills you can try the examples. If you get stuck, ask for help. "
   ]
  },
  {
   "cell_type": "markdown",
   "metadata": {},
   "source": [
    "### How to define a function"
   ]
  },
  {
   "cell_type": "markdown",
   "metadata": {},
   "source": [
    "First a simple function to square a number."
   ]
  },
  {
   "cell_type": "code",
   "execution_count": 3,
   "metadata": {
    "collapsed": true
   },
   "outputs": [],
   "source": [
    "def square(u):\n",
    "    return u**2"
   ]
  },
  {
   "cell_type": "markdown",
   "metadata": {},
   "source": [
    "Note that the Python syntax to square a number is 2**2 = 4. Lets test the function we have just created. "
   ]
  },
  {
   "cell_type": "code",
   "execution_count": 4,
   "metadata": {
    "collapsed": false
   },
   "outputs": [
    {
     "data": {
      "text/plain": [
       "100"
      ]
     },
     "execution_count": 4,
     "metadata": {},
     "output_type": "execute_result"
    }
   ],
   "source": [
    "square(10)"
   ]
  },
  {
   "cell_type": "markdown",
   "metadata": {},
   "source": [
    "Now we will create a small array with four elements. "
   ]
  },
  {
   "cell_type": "code",
   "execution_count": 5,
   "metadata": {
    "collapsed": false
   },
   "outputs": [],
   "source": [
    "a = np.array([2,3,4,5])"
   ]
  },
  {
   "cell_type": "markdown",
   "metadata": {},
   "source": [
    "We can square each element of the array using our function square."
   ]
  },
  {
   "cell_type": "code",
   "execution_count": 6,
   "metadata": {
    "collapsed": false
   },
   "outputs": [
    {
     "data": {
      "text/plain": [
       "array([ 4,  9, 16, 25])"
      ]
     },
     "execution_count": 6,
     "metadata": {},
     "output_type": "execute_result"
    }
   ],
   "source": [
    "square(a)"
   ]
  },
  {
   "cell_type": "markdown",
   "metadata": {},
   "source": [
    "Here is a more complicated function to return the first n terms of the fibonacci series. If you find this example too complicated, just skip to the next example. I do some checking to make sure that n is an integer and also that it is greater than 2. A numpy array is returned and below I plot the elements in the series. You don't have to understand how the functions works. However, if you find it interesting, try and follow the sequence of operations that the function uses to generate the series. It essentially creates an element by added the preceding two element of the series. "
   ]
  },
  {
   "cell_type": "code",
   "execution_count": 7,
   "metadata": {
    "collapsed": false
   },
   "outputs": [],
   "source": [
    "def fibonacci(n):\n",
    "    if isinstance(n, int) and n > 2:\n",
    "        x = np.zeros(shape=(n), dtype=int) # a vector of length n and of type int is created.\n",
    "        x[0] = 1 # the first element of the vector is set equal to 1\n",
    "        x[1] = 1 # the second element of the vector is set equal to 1\n",
    "        for i in range(2,n): # using this loop the remaining elements of the array are calculated\n",
    "            x[i]+=(x[i-1]+x[i-2])\n",
    "        return x\n",
    "    else:\n",
    "        print('error: type mismatch or out of bounds') # if the test fail, this error is printed. "
   ]
  },
  {
   "cell_type": "code",
   "execution_count": null,
   "metadata": {
    "collapsed": false
   },
   "outputs": [
    {
     "data": {
      "text/plain": [
       "array([1, 1, 2, 3, 5, 8])"
      ]
     },
     "execution_count": 8,
     "metadata": {},
     "output_type": "execute_result"
    }
   ],
   "source": [
    "fibonacci(6)"
   ]
  },
  {
   "cell_type": "markdown",
   "metadata": {},
   "source": [
    "### How to make a plot "
   ]
  },
  {
   "cell_type": "markdown",
   "metadata": {},
   "source": [
    "Now, I will illustrate how to make a plot by plotting the elements in the fibonacci series."
   ]
  },
  {
   "cell_type": "code",
   "execution_count": null,
   "metadata": {
    "collapsed": false
   },
   "outputs": [],
   "source": [
    "plt.plot(fibonacci(10),'bo')\n",
    "plt.ylabel('Magnitude',fontsize=14)\n",
    "plt.xlabel('Element',fontsize=14)\n",
    "plt.title('Fibonacci Series',fontsize=16)\n",
    "plt.show() # show() is needed to make the plot visible."
   ]
  },
  {
   "cell_type": "markdown",
   "metadata": {},
   "source": [
    "Another example - here I create a very simple function that will allow me to draw a straight line. Try changing the plot option from 'bo' to 'r-'. Look up the matplotlib documentation online and find some other colors. "
   ]
  },
  {
   "cell_type": "code",
   "execution_count": null,
   "metadata": {
    "collapsed": false
   },
   "outputs": [],
   "source": [
    "def line(a, b, t):\n",
    "    return a+b*t"
   ]
  },
  {
   "cell_type": "markdown",
   "metadata": {},
   "source": [
    "Now I create a vector (a one dimensional array) starting at 0, stopping at 2 and incrementing (step) by 0.001. "
   ]
  },
  {
   "cell_type": "code",
   "execution_count": null,
   "metadata": {
    "collapsed": false
   },
   "outputs": [],
   "source": [
    "t=np.arange(start=0, stop=2, step=0.001)\n",
    "motion = line(1.0, 2.0, t)"
   ]
  },
  {
   "cell_type": "code",
   "execution_count": null,
   "metadata": {
    "collapsed": false
   },
   "outputs": [],
   "source": [
    "plt.plot(t, motion, 'r')\n",
    "plt.title('Plot of motion',fontsize=16)\n",
    "plt.xlabel('t (s)',fontsize=14)\n",
    "plt.ylabel('x (cm)',fontsize=14)\n",
    "plt.ylim(1.0, 5.2)\n",
    "plt.show()"
   ]
  },
  {
   "cell_type": "markdown",
   "metadata": {},
   "source": [
    "If you have followed all the example code that has preceded this point in the notebook, you can apply the concepts you have learned to solve the three examples listed below. "
   ]
  },
  {
   "cell_type": "markdown",
   "metadata": {},
   "source": [
    "### Example 1"
   ]
  },
  {
   "cell_type": "markdown",
   "metadata": {},
   "source": [
    "Write a function called T(L) that will return the period of a pendulum given the length of the pendulum L. You will need to to use the value for g, the acceleration due to gravity. For that, use constants.g from the scipy.constants module. This has already been included above. Get used to using the constants in this module. Once you have written the function and tested it, calculate (**a**) the period of a pendulum of length L = 1.0 m and (**b**) the period of a pendulum of length L = 0.25 m. Remember these two lengths and their associated periods T."
   ]
  },
  {
   "cell_type": "code",
   "execution_count": 18,
   "metadata": {
    "collapsed": false
   },
   "outputs": [
    {
     "name": "stdout",
     "output_type": "stream",
     "text": [
      "2.01\n",
      "1.00\n"
     ]
    },
    {
     "data": {
      "text/plain": [
       "'1.00   1.000    2.0  '"
      ]
     },
     "execution_count": 18,
     "metadata": {},
     "output_type": "execute_result"
    }
   ],
   "source": [
    "def T(L):\n",
    "    return 2*constants.pi * np.sqrt(L/constants.g)\n",
    "print('{:.2f}'.format(T(1.0)))\n",
    "print('{:.2f}'.format(T(0.25)))\n",
    "\n",
    "\"{0:.2f}   {0:.3f}    {1:.1f}  \".format(1,2)"
   ]
  },
  {
   "cell_type": "markdown",
   "metadata": {},
   "source": [
    "### Example 2"
   ]
  },
  {
   "cell_type": "markdown",
   "metadata": {},
   "source": [
    "Consider the sinusoidal form for periodic motion;"
   ]
  },
  {
   "cell_type": "markdown",
   "metadata": {},
   "source": [
    "\\begin{equation}\n",
    "x(t)=A\\sin(\\omega t + \\phi)\n",
    "\\end{equation}"
   ]
  },
  {
   "cell_type": "markdown",
   "metadata": {},
   "source": [
    "Write Python code for the following two functions. (a) A function to return the value of $x(t)$ given $A$, $\\omega$, $t$ and phi. (b) A function to return the angular frequency $w$ given the length of the pendulum $L$. Then, graph the motion x(t) for two pendulums on the same plot. The first will have $L$ = 0.25 m and the second will have $L$ = 1.0 m. Assume the shorter pendulum starts with a phase angle of $\\pi/2$ and the longer pendulum has zero phase angle. Furthermore, assume both have an amplitude of 1.0 cm. Plot for 2 seconds starting at t = 0."
   ]
  },
  {
   "cell_type": "markdown",
   "metadata": {},
   "source": [
    "### Example 3"
   ]
  },
  {
   "cell_type": "markdown",
   "metadata": {
    "collapsed": false
   },
   "source": [
    "Using the sine form of the periodic response, "
   ]
  },
  {
   "cell_type": "markdown",
   "metadata": {},
   "source": [
    "\\begin{equation}\n",
    "x(t)=A\\sin(\\omega t + \\phi)\n",
    "\\end{equation}"
   ]
  },
  {
   "cell_type": "markdown",
   "metadata": {},
   "source": [
    "plot a periodic oscillation comprising a sine response with amplitude of 1.0 cm and period 1.0 s and a sine response with an amplitude of 0.5 cm and a period of 1/3 s. Plot over a time interval of 2.0 s. The phase shift of both will be zero."
   ]
  },
  {
   "cell_type": "markdown",
   "metadata": {},
   "source": [
    "\\begin{equation}\n",
    "x(t)=\\sin(\\omega t)+\\sin(3\\omega t)\n",
    "\\end{equation}"
   ]
  }
 ],
 "metadata": {
  "kernelspec": {
   "display_name": "Python 3",
   "language": "python",
   "name": "python3"
  },
  "language_info": {
   "codemirror_mode": {
    "name": "ipython",
    "version": 3
   },
   "file_extension": ".py",
   "mimetype": "text/x-python",
   "name": "python",
   "nbconvert_exporter": "python",
   "pygments_lexer": "ipython3",
   "version": "3.5.1"
  }
 },
 "nbformat": 4,
 "nbformat_minor": 0
}
