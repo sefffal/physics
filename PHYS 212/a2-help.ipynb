{
 "cells": [
  {
   "cell_type": "markdown",
   "metadata": {},
   "source": [
    "# French Problems Chapter 2\n",
    "Alastair McLean"
   ]
  },
  {
   "cell_type": "code",
   "execution_count": 1,
   "metadata": {
    "collapsed": true
   },
   "outputs": [],
   "source": [
    "import matplotlib.pyplot as plt\n",
    "import numpy as np\n",
    "%matplotlib inline"
   ]
  },
  {
   "cell_type": "markdown",
   "metadata": {},
   "source": [
    "Here is a function that will plot two waves and the resultant. You have to supply the vibrations x1 and x2 and a vector defining the time interval."
   ]
  },
  {
   "cell_type": "code",
   "execution_count": 17,
   "metadata": {
    "collapsed": true
   },
   "outputs": [],
   "source": [
    "def plotvibrations(x1, x2, t):\n",
    "    plt.figure(num=0, figsize=(10, 8), dpi=80, facecolor='w', edgecolor='k')\n",
    "    plt.subplot(211)\n",
    "    plt.plot(t, x1,'b') \n",
    "    plt.plot(t, x2,'r') \n",
    "    plt.ylabel('Amplitude / Arb. Units',fontsize=14)\n",
    "    plt.xlabel('Time / S',fontsize=14)\n",
    "    plt.subplot(212)\n",
    "    plt.plot(t, x1+x2,'g') \n",
    "    plt.ylabel('Amplitude / Arb. Units',fontsize=14)\n",
    "    plt.xlabel('Time / S',fontsize=14)\n",
    "    plt.show()"
   ]
  },
  {
   "cell_type": "markdown",
   "metadata": {},
   "source": [
    "Here is a function that will allow you two create a Lissajous figure of two waves or vibrations. You have to supply the waves x and y."
   ]
  },
  {
   "cell_type": "code",
   "execution_count": 18,
   "metadata": {
    "collapsed": true
   },
   "outputs": [],
   "source": [
    "def plotlissajousfigure(x, y):\n",
    "    plt.figure(num=0, figsize=(6, 6), dpi=80, facecolor='w', edgecolor='k')\n",
    "    plt.plot(x, y) \n",
    "    plt.axis('equal')\n",
    "    plt.ylabel('y',fontsize=16)\n",
    "    plt.xlabel('x',fontsize=16)\n",
    "    plt.show()"
   ]
  },
  {
   "cell_type": "markdown",
   "metadata": {},
   "source": [
    "## Problem 2-2"
   ]
  },
  {
   "cell_type": "markdown",
   "metadata": {},
   "source": [
    "A particle is simultaneously subjected to three simple harmonic motions, all of the same frequency and in the x direction. If the amplitudes are 0.25, 0.20 and 0.15 mm, respectively, and the phase difference between the first and second is 45$^\\circ$, and between the second and third is 30$^\\circ$, find the amplitude of the resultant displacement and its phase relative to the first (0.25-mm amplitude) component.\n",
    "\n",
    "Answer: Read this question carefully because the phase of the third response is given relative to the second and not relative to the first. \n",
    "\n",
    "The x-component of the resultant,\n",
    "\\begin{equation}\n",
    "x = A1+A2 \\cos(\\alpha_2)+A3\\cos(\\alpha_3).\n",
    "\\end{equation}\n",
    "\n",
    "The y-component of the resultant,\n",
    "\\begin{equation}\n",
    "y = A2 \\sin(\\alpha_2)+A3\\sin(\\alpha_3)\n",
    "\\end{equation}\n",
    "\n",
    "The amplitude of the resultant,\n",
    "\\begin{equation}\n",
    "A = \\sqrt{x^2+y^2}.\n",
    "\\end{equation}\n",
    "\n",
    "The phase angle of the resultant,\n",
    "\\begin{equation}\n",
    "\\alpha = \\arctan\\frac{y}{x}.\n",
    "\\end{equation}"
   ]
  },
  {
   "cell_type": "markdown",
   "metadata": {},
   "source": [
    "## Problem 2-3"
   ]
  },
  {
   "cell_type": "markdown",
   "metadata": {},
   "source": [
    "Two vibrations along the same line are described by the equations\n",
    "\\begin{equation}\n",
    "y_1 = A\\cos 10\\pi t\n",
    "\\end{equation}\n",
    "\\begin{equation}\n",
    "y_2 = A\\cos 12\\pi t\n",
    "\\end{equation}\n",
    "Find the beat period, and draw a careful sketch of the resultant disturbance over one beat period. \n",
    "\n",
    "Answer: The periods of these two vibrations can be calculated using:\n",
    "\\begin{equation}\n",
    "T = \\frac{2\\pi}{\\omega}\n",
    "\\end{equation}\n",
    "giving\n",
    "\\begin{equation}\n",
    "T_1 = \\frac{1}{5}  \\ \\ \\ \\ \\ \\ \\ T_2 = \\frac{1}{6}\n",
    "\\end{equation}\n",
    "We know that $n_1T_1 = n_2T_2$. Therefore \n",
    "\\begin{equation}\n",
    "\\frac{n_1}{n_2} = \\frac{5}{6}\n",
    "\\end{equation}\n",
    "There are no common factors, so $n_1 = 5$ and $n_2 = 6$. The beat period $T$ is then equal to $n_1T_1 = n_2T_2 = 1.0\\,s$."
   ]
  },
  {
   "cell_type": "markdown",
   "metadata": {},
   "source": [
    "\n",
    "Here is a plot over one beat period as requested."
   ]
  },
  {
   "cell_type": "markdown",
   "metadata": {},
   "source": [
    "## Problem 2-4"
   ]
  },
  {
   "cell_type": "markdown",
   "metadata": {},
   "source": [
    "Find the frequency of the combined motion of each of the following:\n",
    "\n",
    "(a) $$\\sin(2\\pi t - \\sqrt{2})+\\cos(2\\pi t)$$\n",
    " \n",
    "(b) $$\\sin(12\\pi t)+\\cos(13\\pi t-\\pi/4)$$\n",
    " \n",
    "(c) $$\\sin(3 t)-\\cos(\\pi t)$$\n"
   ]
  },
  {
   "cell_type": "markdown",
   "metadata": {},
   "source": [
    "### (a)\n",
    "Here two vibrations are added that have the same frequency. This produces a resultant vibration with the same frequency. The frequency $\\omega = 2\\pi$. So the period is 1.0 s. The average or 'carrier' frequency $\\overline f$ is 1.0 Hz."
   ]
  },
  {
   "cell_type": "markdown",
   "metadata": {},
   "source": [
    "### (b)"
   ]
  },
  {
   "cell_type": "markdown",
   "metadata": {},
   "source": [
    "The frequencies of these two waves can be expressed as a ratio of two integers, so the resultant wavefrom is periodic.\n",
    "\n",
    "$$\\omega_1 = 12\\pi\\ \\ \\ \\  \\text{and}\\ \\ \\ \\ \\omega_2 = 13\\pi$$\n",
    "$$T_1 = 2/12 s \\ \\ \\ \\ \\text{and} \\ \\ \\ \\ T_2 = 2/13 s$$\n",
    "\n",
    "\\begin{equation}\n",
    "\\frac{T_1}{T_2} = \\frac{13}{12} = \\frac{n_2}{n_1}\n",
    "\\end{equation}\n",
    "\n",
    "There are no common factors, so we take $n_2$ = 13 and $n_1$ = 12. The period is therefore 2.0 s since\n",
    "\\begin{equation}\n",
    "T = n_1T_1 = n_2 T_2 = 2.0s\n",
    "\\end{equation}\n",
    "\n",
    "The average or 'carrier' frequency $\\overline f$ is 6.25 Hz."
   ]
  },
  {
   "cell_type": "markdown",
   "metadata": {},
   "source": [
    "### (c)"
   ]
  },
  {
   "cell_type": "markdown",
   "metadata": {},
   "source": [
    "The ratio of the two frequencies can not be expressed as a ratio of two integers, so the resultant is not periodic. Inspection of the resultant waveform verifies our assertion that the beat frequency is given by the difference of the the frequencies of the two waves that we are adding rather than the difference divided by 2. "
   ]
  },
  {
   "cell_type": "markdown",
   "metadata": {},
   "source": [
    "# Problem 2-5\n",
    "\n",
    "Two vibrations at right angles to one another are described by the equation\n",
    "\\begin{equation}\n",
    "x = 10\\cos(5 \\pi t)\n",
    "\\end{equation}\n",
    "\\begin{equation}\n",
    "x = 10\\cos(10 \\pi t + \\pi/4)\n",
    "\\end{equation}\n",
    "Construct a Lissajous figure of the combined motion."
   ]
  },
  {
   "cell_type": "markdown",
   "metadata": {},
   "source": [
    "# Problem 2-6\n",
    "\n",
    "Construct the Lissajous figure of the combined motion.\n",
    "\n",
    "(a)\n",
    "\\begin{equation}\n",
    "x = \\cos(2\\omega t)\\ \\ \\ \\ \n",
    "y = \\sin(2\\omega t)\n",
    "\\end{equation}\n",
    "\n",
    "(b)\n",
    "\\begin{equation}\n",
    "x = \\cos(2\\omega t)\\ \\ \\ \\\n",
    "y = \\cos(2\\omega t-\\pi/4)\n",
    "\\end{equation}\n",
    "\n",
    "(c)\n",
    "\\begin{equation}\n",
    "x = \\cos(2\\omega t)\\ \\ \\ \\ \n",
    "y = \\cos(\\omega t)\n",
    "\\end{equation}\n"
   ]
  },
  {
   "cell_type": "markdown",
   "metadata": {},
   "source": [
    "## a"
   ]
  },
  {
   "cell_type": "markdown",
   "metadata": {},
   "source": [
    "## b"
   ]
  },
  {
   "cell_type": "markdown",
   "metadata": {},
   "source": [
    "## c"
   ]
  }
 ],
 "metadata": {
  "kernelspec": {
   "display_name": "Python 3",
   "language": "python",
   "name": "python3"
  },
  "language_info": {
   "codemirror_mode": {
    "name": "ipython",
    "version": 3
   },
   "file_extension": ".py",
   "mimetype": "text/x-python",
   "name": "python",
   "nbconvert_exporter": "python",
   "pygments_lexer": "ipython3",
   "version": "3.5.1"
  }
 },
 "nbformat": 4,
 "nbformat_minor": 0
}
