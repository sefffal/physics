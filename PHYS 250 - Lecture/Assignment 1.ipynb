{
 "cells": [
  {
   "cell_type": "code",
   "execution_count": 35,
   "metadata": {
    "collapsed": false
   },
   "outputs": [
    {
     "name": "stdout",
     "output_type": "stream",
     "text": [
      "Populating the interactive namespace from numpy and matplotlib\n"
     ]
    }
   ],
   "source": [
    "# Setup\n",
    "import sympy as sym\n",
    "import numpy as np\n",
    "import scipy.optimize as opt\n",
    "\n",
    "sym.init_printing()\n",
    "%pylab inline"
   ]
  },
  {
   "cell_type": "markdown",
   "metadata": {},
   "source": [
    "## Question 1 &mdash; Measuring $\\pi$\n",
    "\n",
    "\n",
    "<img style=\"float:right; max-width:380px;\" src=\"assignment-1-diagram.png\"/>\n",
    "In this experiment, $\\pi$ was determined experimentally by measuring the circumfrance and diamter of a circle. An accurate circle with four equispaced diameter was obtained by printing a computer generated graphic (see figure). The diameters and eights of the circumfrance were measued many times using a flexible tape-measure. Eights of a the circumfrance were measued between the diameter lines because aligning a flexible tape measure around the entire circumfrance is error-prone.\n",
    "For both circumfrance and diameter, the mean was used as the best estimate, and the standard deviation error on the mean was used as the uncertainty.\n",
    "\n",
    "Once the diameter and circumfrance were measued, pi was calculated using the formula $\\pi = \\frac{C}{d}$ where $C$ is the circumfrance, and $d$ is the diameter.\n",
    "\n",
    "The error was propagated using the formula: $\\sigma_\\pi=\\sqrt{(\\frac{\\partial \\pi}{\\partial C} \\sigma_C)^2 + (\\frac{\\partial \\pi}{\\partial d} \\sigma_d)^2}$"
   ]
  },
  {
   "cell_type": "code",
   "execution_count": 36,
   "metadata": {
    "collapsed": false
   },
   "outputs": [],
   "source": [
    "diameters = np.array([\n",
    "    19.55,\n",
    "    19.54,\n",
    "    19.55,\n",
    "    19.54,\n",
    "    19.53,\n",
    "    19.53,\n",
    "    19.60,\n",
    "    19.61,\n",
    "    19.60,\n",
    "    19.65,\n",
    "    19.66,\n",
    "    19.64,\n",
    "])\n",
    "\n",
    "# Measured eights of a circumfrance\n",
    "eighths = np.array([\n",
    "    7.70,\n",
    "    7.72,\n",
    "    7.76,\n",
    "    7.65,\n",
    "    7.63,\n",
    "    7.71,\n",
    "    7.72\n",
    "])\n",
    "circumfrances = 8*eighths"
   ]
  },
  {
   "cell_type": "code",
   "execution_count": 37,
   "metadata": {
    "collapsed": false
   },
   "outputs": [
    {
     "name": "stdout",
     "output_type": "stream",
     "text": [
      "Pi is measured to be:  3.145 ± 0.008\n"
     ]
    }
   ],
   "source": [
    "\n",
    "\n",
    "def mean_and_error_on_the_mean(datas):\n",
    "    mean = datas.mean()\n",
    "    std = datas.std(ddof=1)\n",
    "    mean_err = std/sqrt(len(datas)-1)\n",
    "    return mean, mean_err\n",
    "\n",
    "diameter, diameter_err = mean_and_error_on_the_mean(diameters)\n",
    "circumfrance, circumfrance_err = mean_and_error_on_the_mean(circumfrances)\n",
    "\n",
    "circ, circ_d, diam, diam_d = sym.symbols('c sigma_c d sigma_d')\n",
    "\n",
    "# Our expressions\n",
    "pi = circ/diam\n",
    "pi_d = sym.sqrt((sym.diff(pi, circ)*circ_d)**2+(sym.diff(pi, diam)*diam_d)**2)\n",
    "\n",
    "\n",
    "subs = {\n",
    "    circ: circumfrance,\n",
    "    circ_d: circumfrance_err,\n",
    "    diam: diameter,\n",
    "    diam_d: diameter_err\n",
    "}\n",
    "\n",
    "pi_calc = pi.evalf(subs=subs)\n",
    "pi_calc_d = pi_d.evalf(subs=subs)\n",
    "\n",
    "print('Pi is measured to be: {: 0.3f} ± {:0.3f}'.format(pi_calc, pi_calc_d))"
   ]
  },
  {
   "cell_type": "markdown",
   "metadata": {},
   "source": [
    "The accepted value of $\\pi$ to three decimal places is 3.142, which is well within the error margins."
   ]
  },
  {
   "cell_type": "markdown",
   "metadata": {},
   "source": [
    "## Question 2\n",
    "*Propagate the uncertainty in measurement*\n",
    "\n",
    "Define the function $f(x,y)=\\log(\\frac{x}{\\sqrt{x^2+y^2}}) \\sqrt{10+cos(x)}$ symbolically using *SymPy*.\n",
    "\n",
    "There error of $f(x,y)$, $\\sigma_f$ is given by $\\sigma_f=\\sqrt{(\\frac{\\partial f}{\\partial x} \\sigma_x)^2 + (\\frac{\\partial f}{\\partial y} \\sigma_y)^2}$"
   ]
  },
  {
   "cell_type": "code",
   "execution_count": 38,
   "metadata": {
    "collapsed": false
   },
   "outputs": [],
   "source": [
    "x, y, sigma_x, sigma_y = sym.symbols('x y sigma_x sigma_y')\n",
    "\n",
    "F = sym.log(x/sym.sqrt(x**2+y**2))*sym.sqrt(10+sym.cos(x))\n",
    "\n",
    "sigma_f = sym.sqrt((sym.diff(F, x)*sigma_x )**2 +\n",
    "                   (sym.diff(F,y)*sigma_y)**2)\n"
   ]
  },
  {
   "cell_type": "markdown",
   "metadata": {},
   "source": [
    "Now we can evaluate our function and calculate its error on the range of values below:"
   ]
  },
  {
   "cell_type": "code",
   "execution_count": 39,
   "metadata": {
    "collapsed": false
   },
   "outputs": [
    {
     "name": "stdout",
     "output_type": "stream",
     "text": [
      "f(1.0±0.2, 2.3±0.1) = -3.0 ± 0.6\n",
      "f(1.2±0.1, 3.0±0.2) = -3.2 ± 0.3\n",
      "f(2.1±0.7, 1.0±0.7) = -0.3 ± 0.4\n",
      "f(3.2±0.4, 4.1±0.6) = -1.5 ± 0.4\n"
     ]
    }
   ],
   "source": [
    "values = [\n",
    "    {'x':1.0, 'sigma_x':0.2, 'y':2.3, 'sigma_y':0.1},\n",
    "    {'x':1.2, 'sigma_x':0.1, 'y':3.0, 'sigma_y':.2},\n",
    "    {'x':2.1, 'sigma_x':0.7, 'y':1.0, 'sigma_y':.7},\n",
    "    {'x':3.2, 'sigma_x':0.4, 'y':4.1, 'sigma_y':0.6},\n",
    "]\n",
    "\n",
    "# calculate the values and errors on f\n",
    "for subs in values:\n",
    "    val = F.evalf(subs=subs)\n",
    "    err = sigma_f.evalf(subs=subs)\n",
    "    print( \n",
    "       ('f({x:.1f}±{sigma_x:.1f}, {y:.1f}±{sigma_y:.1f}) = '+\n",
    "        '{val: 0.1f} ± {err:0.1f}').format(val=val, err=err, **subs)\n",
    "    )"
   ]
  },
  {
   "cell_type": "markdown",
   "metadata": {},
   "source": [
    "## Question 3\n"
   ]
  },
  {
   "cell_type": "code",
   "execution_count": 40,
   "metadata": {
    "collapsed": false
   },
   "outputs": [],
   "source": [
    "# near linear model y(x)=a+bx\n",
    "# \n",
    "\n",
    "data = np.array([\n",
    "    #  x,      y,  sigma_y\n",
    "    [ 0.00,  4.92, 0.86],\n",
    "    [ 0.53,  5.45, 1.19],\n",
    "    [ 1.05,  5.89, 1.29],\n",
    "    [ 1.58,  8.12, 0.12],\n",
    "    [ 2.11,  9.20, 0.61],\n",
    "    [ 2.63, 10.86, 0.62],\n",
    "    [ 3.16, 10.33, 1.26],\n",
    "    [ 3.68, 15.28, 1.42],\n",
    "    [ 4.21, 13.80, 1.07],\n",
    "    [ 4.74, 13.86, 0.44],\n",
    "    [ 5.26, 14.57, 0.72],\n",
    "    [ 5.79, 15.48, 0.65],\n",
    "    [ 6.32, 17.91, 0.72],\n",
    "    [ 6.84, 17.83, 0.65],\n",
    "    [ 7.37, 21.25, 1.64],\n",
    "    [ 7.89, 21.72, 0.59],\n",
    "    [ 8.42, 21.80, 0.05],\n",
    "    [ 8.95, 23.52, 1.45],\n",
    "    [ 9.47, 25.47, 1.25],\n",
    "    [10.00, 24.95, 0.05],\n",
    "])\n",
    "\n",
    "X = data[:,0]\n",
    "Y = data[:,1]\n",
    "Y_err = data[:,2]"
   ]
  },
  {
   "cell_type": "markdown",
   "metadata": {},
   "source": [
    "A) Evaluate the mean, standard deviation, and error on the mean of Y"
   ]
  },
  {
   "cell_type": "code",
   "execution_count": 41,
   "metadata": {
    "collapsed": false
   },
   "outputs": [
    {
     "name": "stdout",
     "output_type": "stream",
     "text": [
      "Y_mean  = 15.11 ± 1.5\n",
      "Y_stdev = 6.60\n"
     ]
    }
   ],
   "source": [
    "Y_mean  = Y.mean()\n",
    "Y_stdev = Y.std(ddof=1)\n",
    "Y_mean_err = Y_stdev/sqrt(len(Y)-1)\n",
    "\n",
    "print('Y_mean  = {:.2f} ± {:.1f}'.format(Y_mean, Y_mean_err))\n",
    "print('Y_stdev = {:.2f}'.format(Y_stdev))"
   ]
  },
  {
   "cell_type": "markdown",
   "metadata": {},
   "source": [
    "B) Fit the model"
   ]
  },
  {
   "cell_type": "code",
   "execution_count": 42,
   "metadata": {
    "collapsed": false
   },
   "outputs": [
    {
     "data": {
      "image/png": "[encoded data removed]",
      "text/plain": [
       "<matplotlib.figure.Figure at 0x226e73a0be0>"
      ]
     },
     "metadata": {},
     "output_type": "display_data"
    }
   ],
   "source": [
    "def model(x, a, b):\n",
    "    return a+b*x\n",
    "\n",
    "(a, b), pcov = opt.curve_fit(model, X, Y, (0,0), sigma=Y_mean_err)\n",
    "pars_err = np.sqrt(np.diag(pcov))\n",
    "\n",
    "matplotlib.rcParams['figure.figsize'] = (12, 10)\n",
    "gs = matplotlib.gridspec.GridSpec(2, 1, height_ratios=[3, 2])\n",
    "\n",
    "subplot(gs[0])\n",
    "errorbar(X, Y, Y_err, fmt='k.', label='Data')\n",
    "x = linspace(0, 10, 200)\n",
    "plot(x, model(x, a, b), 'r-', label='Linear Fit')\n",
    "#Create some text with the fit results to put into our plot\n",
    "resultTxt = (\n",
    "    \"Fitted parameters for y=a+bx:\\n\"\n",
    "    \"a: {:.2f} +/− {:.2f}\\n\"\n",
    "    \"b: {:.2f} +/− {:.2f}\\n\"\n",
    ").format(a,pars_err[0],b,pars_err[1])\n",
    "text(X.mean(),Y.min() ,resultTxt , fontsize=14)\n",
    "title('Fit of the data')\n",
    "ylabel('Y')\n",
    "xlabel('X')\n",
    "legend(loc='best')\n",
    "\n",
    "subplot(gs[1])\n",
    "errorbar(X, Y-model(X, a, b), Y_err, fmt='k.')\n",
    "xlabel('X')\n",
    "ylabel('Residuals')\n",
    "show()"
   ]
  },
  {
   "cell_type": "markdown",
   "metadata": {
    "collapsed": true
   },
   "source": [
    "C) Calculate the $\\chi^2$ of this fit"
   ]
  },
  {
   "cell_type": "code",
   "execution_count": 43,
   "metadata": {
    "collapsed": false
   },
   "outputs": [
    {
     "name": "stdout",
     "output_type": "stream",
     "text": [
      "\n",
      "The chi squared for this fit is 272.51\n",
      "The number of degrees of freedum is 17\n",
      "The chi squared over dof is 16.03\n",
      "\n"
     ]
    }
   ],
   "source": [
    "\n",
    "chi_squared = sum(((Y-model(X, a, b))/Y_err)**2)\n",
    "M = 2 # 2 parameters\n",
    "N = len(Y)\n",
    "n = N-M-1\n",
    "\n",
    "print('''\n",
    "The chi squared for this fit is {:.2f}\n",
    "The number of degrees of freedum is {}\n",
    "The chi squared over dof is {:.2f}\n",
    "'''.format(chi_squared, n, chi_squared/n))"
   ]
  }
 ],
 "metadata": {
  "kernelspec": {
   "display_name": "Python 3",
   "language": "python",
   "name": "python3"
  },
  "language_info": {
   "codemirror_mode": {
    "name": "ipython",
    "version": 3
   },
   "file_extension": ".py",
   "mimetype": "text/x-python",
   "name": "python",
   "nbconvert_exporter": "python",
   "pygments_lexer": "ipython3",
   "version": "3.5.1"
  }
 },
 "nbformat": 4,
 "nbformat_minor": 0
}
