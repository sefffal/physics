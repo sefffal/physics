{
 "cells": [
  {
   "cell_type": "code",
   "execution_count": 1,
   "metadata": {
    "collapsed": false
   },
   "outputs": [
    {
     "name": "stdout",
     "output_type": "stream",
     "text": [
      "Populating the interactive namespace from numpy and matplotlib\n"
     ]
    }
   ],
   "source": [
    "# Setup\n",
    "import sympy as sym\n",
    "import numpy as np\n",
    "sym.init_printing()\n",
    "%pylab inline\n"
   ]
  },
  {
   "cell_type": "markdown",
   "metadata": {},
   "source": [
    "## Question 2\n",
    "*Propagate the uncertainty in measurement*\n",
    "\n",
    "Define the function $f(x,y)=\\log(\\frac{x}{\\sqrt{x^2+y^2}}) \\sqrt{10+cos(x)}$ symbolically using *SymPy*.\n",
    "\n",
    "There error of $f(x,y)$, $\\sigma_f$ is given by $\\sigma_f=\\sqrt{(\\frac{\\partial f}{\\partial x} \\sigma_x)^2 + (\\frac{\\partial f}{\\partial y} \\sigma_y)^2}$"
   ]
  },
  {
   "cell_type": "code",
   "execution_count": 2,
   "metadata": {
    "collapsed": false
   },
   "outputs": [],
   "source": [
    "x, y, sigma_x, sigma_y = sym.symbols('x y sigma_x sigma_y')\n",
    "\n",
    "F = sym.log(x/sym.sqrt(x**2+y**2))*sym.sqrt(10+sym.cos(x))\n",
    "\n",
    "sigma_f = sym.sqrt((sym.diff(F, x)*sigma_x )**2 +\n",
    "                   (sym.diff(F,y)*sigma_y)**2)\n"
   ]
  },
  {
   "cell_type": "markdown",
   "metadata": {},
   "source": [
    "Now we can evaluate our function and calculate its error on the range of values below:"
   ]
  },
  {
   "cell_type": "code",
   "execution_count": 4,
   "metadata": {
    "collapsed": false
   },
   "outputs": [
    {
     "name": "stdout",
     "output_type": "stream",
     "text": [
      "f(1.0±0.2, 2.3±0.1) = -3.0 ± 0.6\n",
      "f(1.2±0.1, 3.0±0.2) = -3.2 ± 0.3\n",
      "f(2.1±0.7, 1.0±0.7) = -0.3 ± 0.4\n",
      "f(3.2±0.4, 4.1±0.6) = -1.5 ± 0.4\n"
     ]
    }
   ],
   "source": [
    "values = [\n",
    "    {'x':1.0, 'sigma_x':0.2, 'y':2.3, 'sigma_y':0.1},\n",
    "    {'x':1.2, 'sigma_x':0.1, 'y':3.0, 'sigma_y':.2},\n",
    "    {'x':2.1, 'sigma_x':0.7, 'y':1.0, 'sigma_y':.7},\n",
    "    {'x':3.2, 'sigma_x':0.4, 'y':4.1, 'sigma_y':0.6},\n",
    "]\n",
    "\n",
    "# calculate the values and errors on f\n",
    "for subs in values:\n",
    "    val = F.evalf(subs=subs)\n",
    "    err = sigma_f.evalf(subs=subs)\n",
    "    print( \n",
    "       ('f({x:.1f}±{sigma_x:.1f}, {y:.1f}±{sigma_y:.1f}) = '+\n",
    "        '{val: 0.1f} ± {err:0.1f}').format(val=val, err=err, **subs)\n",
    "    )"
   ]
  },
  {
   "cell_type": "markdown",
   "metadata": {},
   "source": [
    "## Question 3\n"
   ]
  },
  {
   "cell_type": "code",
   "execution_count": 113,
   "metadata": {
    "collapsed": true
   },
   "outputs": [],
   "source": [
    "# near linear model y(x)=a+bx\n",
    "# \n",
    "\n",
    "data = [\n",
    "    #  x,      y,  sigma_y\n",
    "    [ 0.00,  4.92, 0.86],\n",
    "    [ 0.53,  5.45, 1.19],\n",
    "    [ 1.05,  5.89, 1.29],\n",
    "    [ 1.58,  8.12, 0.12],\n",
    "    [ 2.11,  9.20, 0.61],\n",
    "    [ 2.63, 10.86, 0.62],\n",
    "    [ 3.16, 10.33, 1.26],\n",
    "    [ 3.68, 15.28, 1.42],\n",
    "    [ 4.21, 13.80, 1.07],\n",
    "    [ 4.74, 13.86, 0.44],\n",
    "    [ 5.26, 14.57, 0.72],\n",
    "    [ 5.79, 15.48, 0.65],\n",
    "    [ 6.32, 17.91, 0.72],\n",
    "    [ 6.84, 17.83, 0.65],\n",
    "    [ 7.37, 21.25, 1.64],\n",
    "    [ 7.89, 21.72, 0.59],\n",
    "    [ 8.42, 21.80, 0.05],\n",
    "    [ 8.95, 23.52, 1.45],\n",
    "    [ 9.47, 25.47, 1.25],\n",
    "    [10.00, 24.95, 0.05],\n",
    "]\n",
    "# Split into vectors\n",
    "X, Y, sigma_Y = map(np.array, zip(*data))"
   ]
  },
  {
   "cell_type": "markdown",
   "metadata": {},
   "source": [
    "A) Evaluate the mean, standard deviation, and error on the mean of Y"
   ]
  },
  {
   "cell_type": "code",
   "execution_count": 127,
   "metadata": {
    "collapsed": false
   },
   "outputs": [
    {
     "name": "stdout",
     "output_type": "stream",
     "text": [
      "Y_mean  = 15.11 ± 1.5\n",
      "Y_stdev = 6.60\n"
     ]
    }
   ],
   "source": [
    "Y_mean  = Y.mean()\n",
    "Y_stdev = Y.std(ddof=1)\n",
    "Y_mean_err = Y_stdev/sqrt(len(Y)-1)\n",
    "\n",
    "print('Y_mean  = {:.2f} ± {:.1f}'.format(Y_mean, Y_mean_err))\n",
    "print('Y_stdev = {:.2f}'.format(Y_stdev))"
   ]
  },
  {
   "cell_type": "markdown",
   "metadata": {},
   "source": [
    "B) Fit the model"
   ]
  },
  {
   "cell_type": "code",
   "execution_count": null,
   "metadata": {
    "collapsed": true
   },
   "outputs": [],
   "source": []
  }
 ],
 "metadata": {
  "kernelspec": {
   "display_name": "Python 3",
   "language": "python",
   "name": "python3"
  },
  "language_info": {
   "codemirror_mode": {
    "name": "ipython",
    "version": 3
   },
   "file_extension": ".py",
   "mimetype": "text/x-python",
   "name": "python",
   "nbconvert_exporter": "python",
   "pygments_lexer": "ipython3",
   "version": "3.5.1"
  }
 },
 "nbformat": 4,
 "nbformat_minor": 0
}
