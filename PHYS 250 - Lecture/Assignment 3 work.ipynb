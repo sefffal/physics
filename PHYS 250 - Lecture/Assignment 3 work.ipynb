{
 "cells": [
  {
   "cell_type": "code",
   "execution_count": 4,
   "metadata": {
    "collapsed": false
   },
   "outputs": [
    {
     "name": "stdout",
     "output_type": "stream",
     "text": [
      "Populating the interactive namespace from numpy and matplotlib\n"
     ]
    }
   ],
   "source": [
    "%pylab inline\n",
    "import scipy.stats"
   ]
  },
  {
   "cell_type": "code",
   "execution_count": 62,
   "metadata": {
    "collapsed": false
   },
   "outputs": [
    {
     "name": "stdout",
     "output_type": "stream",
     "text": [
      "Optimization terminated successfully.\n",
      "         Current function value: -0.400000\n",
      "         Iterations: 6\n",
      "         Function evaluations: 13\n"
     ]
    },
    {
     "data": {
      "text/plain": [
       "array([ 0.00875])"
      ]
     },
     "execution_count": 62,
     "metadata": {},
     "output_type": "execute_result"
    },
    {
     "data": {
      "image/png": "[encoded data removed]",
      "text/plain": [
       "<matplotlib.figure.Figure at 0x17b58484fd0>"
      ]
     },
     "metadata": {},
     "output_type": "display_data"
    }
   ],
   "source": [
    "x = linspace(0.01, 0.6, 200)\n",
    "y = scipy.stats.norm.pdf(x, 168, 10)\n",
    "\n",
    "\n",
    "def expression(sigma):\n",
    "    guass = lambda x: scipy.stats.norm.pdf(x, loc=168, scale=sigma)\n",
    "\n",
    "    val, err = scipy.integrate.quad(\n",
    "        guass,\n",
    "        # Start:\n",
    "        158,\n",
    "        # End:\n",
    "        178\n",
    "    )\n",
    "    \n",
    "    return 0.6-val\n",
    "\n",
    "plot(x, list(map(expression, x)), 'k.')\n",
    "\n",
    "scipy.optimize.fmin(expression, 0.01)\n",
    "\n",
    "# guass.pdf(x, scale=10)\n",
    "\n",
    "#plot(linspace(0.1, 100, 10), list(map(integral_for_sigma, linspace(0.1, 100, 10))))\n",
    "# list(map(integral_for_sigma, linspace(0.1, 10, 10)))"
   ]
  },
  {
   "cell_type": "code",
   "execution_count": 43,
   "metadata": {
    "collapsed": false
   },
   "outputs": [
    {
     "data": {
      "text/plain": [
       "0.3989422804014327"
      ]
     },
     "execution_count": 43,
     "metadata": {},
     "output_type": "execute_result"
    }
   ],
   "source": [
    "sigma=1\n",
    "guass = lambda x: scipy.stats.norm.pdf(x, loc=168, scale=sigma)\n",
    "\n",
    "guass(168)"
   ]
  }
 ],
 "metadata": {
  "kernelspec": {
   "display_name": "Python 3",
   "language": "python",
   "name": "python3"
  },
  "language_info": {
   "codemirror_mode": {
    "name": "ipython",
    "version": 3
   },
   "file_extension": ".py",
   "mimetype": "text/x-python",
   "name": "python",
   "nbconvert_exporter": "python",
   "pygments_lexer": "ipython3",
   "version": "3.5.1"
  }
 },
 "nbformat": 4,
 "nbformat_minor": 0
}
