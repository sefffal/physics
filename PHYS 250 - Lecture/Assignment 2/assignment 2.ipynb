{
 "cells": [
  {
   "cell_type": "markdown",
   "metadata": {},
   "source": [
    "# PHYS 250 Lecture &mdash; Assignment 2\n",
    "~~~\n",
    "William Thompson        10091404           12wt9\n",
    "~~~"
   ]
  },
  {
   "cell_type": "code",
   "execution_count": 193,
   "metadata": {
    "collapsed": false
   },
   "outputs": [
    {
     "name": "stdout",
     "output_type": "stream",
     "text": [
      "Populating the interactive namespace from numpy and matplotlib\n"
     ]
    }
   ],
   "source": [
    "# Import * from matplotlib.pyplot and numpy, and show figures inline\n",
    "%pylab inline\n",
    "\n",
    "# Symbolic differentiation\n",
    "import sympy\n",
    "sympy.init_printing()\n",
    "\n",
    "# Useful for sem method, standard-error-on-mean\n",
    "import scipy.stats as stats\n",
    "\n",
    "# Display rich text and formulas in Python output\n",
    "from IPython.display import Markdown"
   ]
  },
  {
   "cell_type": "markdown",
   "metadata": {},
   "source": [
    "## Question 1"
   ]
  },
  {
   "cell_type": "code",
   "execution_count": 194,
   "metadata": {
    "collapsed": false
   },
   "outputs": [],
   "source": [
    "(\n",
    "    x,\n",
    "    y,\n",
    "    sigmax,\n",
    "    sigmay,\n",
    "    sigmaxy # Covariance factor\n",
    ") = sympy.symbols('x y sigma_X sigma_y sigma_xy')\n",
    "\n",
    "# Define symbolic function for error propagation\n",
    "F_sym = sympy.exp(-(x-1.1)**2/0.1)*sympy.exp(-(y-2.9)**2/0.1)\n",
    "# Convert to numpy formula for vector calculations\n",
    "F = sympy.lambdify((x, y), F_sym, 'numpy')\n",
    "\n",
    "x_val = 1.0\n",
    "x_val_d = 0.05\n",
    "y_val = 3.0\n",
    "y_val_d = 0.05\n"
   ]
  },
  {
   "cell_type": "markdown",
   "metadata": {},
   "source": [
    "### A)"
   ]
  },
  {
   "cell_type": "code",
   "execution_count": 195,
   "metadata": {
    "collapsed": false
   },
   "outputs": [
    {
     "data": {
      "text/markdown": [
       "Using the min-max method, $F = 0.79 \\pm 0.16$"
      ],
      "text/plain": [
       "<IPython.core.display.Markdown object>"
      ]
     },
     "execution_count": 195,
     "metadata": {},
     "output_type": "execute_result"
    }
   ],
   "source": [
    "X = linspace(x_val-x_val_d, x_val+x_val_d, 1000)\n",
    "Y = linspace(y_val-y_val_d, y_val+y_val_d, 1000)\n",
    "\n",
    "max_vals, min_vals = [], []\n",
    "for xi in X:\n",
    "    fs = F(xi,Y)\n",
    "    max_vals.append(max(fs))\n",
    "    min_vals.append(min(fs))\n",
    "max_val = max(max_vals)\n",
    "min_val = min(min_vals)\n",
    "    \n",
    "F_best = (max_val+min_val)/2\n",
    "F_d = (max_val-min_val)/2\n",
    "\n",
    "Markdown(\n",
    "    'Using the min-max method, $F = {:.2f} \\pm {:.2f}$'\n",
    "    .format(F_best, F_d)\n",
    ")"
   ]
  },
  {
   "cell_type": "markdown",
   "metadata": {},
   "source": [
    "### B)"
   ]
  },
  {
   "cell_type": "code",
   "execution_count": 196,
   "metadata": {
    "collapsed": false
   },
   "outputs": [
    {
     "data": {
      "text/markdown": [
       "Using the derivative method, $F = 0.82 \\pm 0.12$"
      ],
      "text/plain": [
       "<IPython.core.display.Markdown object>"
      ]
     },
     "execution_count": 196,
     "metadata": {},
     "output_type": "execute_result"
    }
   ],
   "source": [
    "dFdx = sympy.diff(F_sym, x)\n",
    "dFdy = sympy.diff(F_sym, y)\n",
    "F_sym_err = sympy.sqrt((dFdx*sigmax)**2 + (dFdy*sigmay)**2)\n",
    "\n",
    "F_err = F_sym_err.evalf(subs={\n",
    "    x: x_val,\n",
    "    y: y_val,\n",
    "    sigmax: x_val_d,\n",
    "    sigmay: y_val_d,\n",
    "})\n",
    "\n",
    "## NEED COVARIANCe FACTOR\n",
    "\n",
    "F_best = F(x_val, y_val)\n",
    "\n",
    "Markdown(\n",
    "    'Using the derivative method, $F = {:.2f} \\pm {:.2f}$'\n",
    "    .format(F_best, F_err)\n",
    ")"
   ]
  },
  {
   "cell_type": "markdown",
   "metadata": {},
   "source": [
    "### C)\n",
    "\n",
    "The result from part B has a slightly larger value for the best estimate of F then part A, and has a somewhat smaller uncertainty.\n",
    "\n",
    "It is expected that the min-max method will give a larger estimate than the derivative method. The min-max method gives the upper limit for the uncertainty, whereas the derivative method gives the standard deviation of the measurement, if the measurement is normally distributed, i.e. it is assuming that the measurements do not all lie at the extreema of their ranges.\n",
    "\n",
    "It is also quite probably that the the two methods will give different answers for the best estimate. Using the derivative method, we are essentially using the mean value of F. In the min-max method, we are blindly splitting the difference between the highest and lowest values.\n"
   ]
  },
  {
   "cell_type": "markdown",
   "metadata": {},
   "source": [
    "### D)"
   ]
  },
  {
   "cell_type": "code",
   "execution_count": 197,
   "metadata": {
    "collapsed": false
   },
   "outputs": [
    {
     "data": {
      "text/markdown": [
       "Using the derivative method, $F = 0.82 \\pm 1.6$"
      ],
      "text/plain": [
       "<IPython.core.display.Markdown object>"
      ]
     },
     "execution_count": 197,
     "metadata": {},
     "output_type": "execute_result"
    }
   ],
   "source": [
    "F_sym_err_cov = sympy.sqrt(\n",
    "    (dFdx*sigmax)**2 +\n",
    "    (dFdy*sigmay)**2 +\n",
    "    2*dFdx*dFdy*sigmaxy\n",
    ")\n",
    "\n",
    "F_err_cov = F_sym_err_cov.evalf(subs={\n",
    "    x: x_val,\n",
    "    y: y_val,\n",
    "    sigmax: x_val_d,\n",
    "    sigmay: y_val_d,\n",
    "    sigmaxy: -0.5\n",
    "})\n",
    "\n",
    "F_best = F(x_val, y_val)\n",
    "\n",
    "Markdown(\n",
    "    'Using the derivative method, $F = {:.2f} \\pm {:.1f}$'\n",
    "    .format(F_best, F_err_cov)\n",
    ")"
   ]
  },
  {
   "cell_type": "markdown",
   "metadata": {},
   "source": [
    "This uncertainty is significantly larger than the result from part B; in fact, it is larger by an order of magnitude. The covariance factor indicates that these measurements are anti-correlated, hence a larger uncertainty."
   ]
  },
  {
   "cell_type": "markdown",
   "metadata": {},
   "source": [
    "## Question 2"
   ]
  },
  {
   "cell_type": "markdown",
   "metadata": {},
   "source": [
    "### A)"
   ]
  },
  {
   "cell_type": "code",
   "execution_count": 200,
   "metadata": {
    "collapsed": false
   },
   "outputs": [
    {
     "data": {
      "text/markdown": [
       "The thickness of a single playing card is 3.03e-04m $\\pm$ 3e-03m"
      ],
      "text/plain": [
       "<IPython.core.display.Markdown object>"
      ]
     },
     "execution_count": 200,
     "metadata": {},
     "output_type": "execute_result"
    }
   ],
   "source": [
    "micrometer_d = 0.001*1e-3 # mm -> m\n",
    "N = 52\n",
    "N_d = sqrt(N)\n",
    "\n",
    "deck = 1.575*1e-2 # cm -> m\n",
    "deck_d = micrometer_d/2  # Half the smallest division\n",
    "\n",
    "card = deck/deck_N\n",
    "card_d = sqrt( (deck_d/N)**2 + (-N_d/N**2 )**2)\n",
    "\n",
    "Markdown(\n",
    "    'The thickness of a single playing card is {:.2e}m $\\pm$ {:.0e}m'\n",
    "    .format(card, card_d)\n",
    ")"
   ]
  },
  {
   "cell_type": "markdown",
   "metadata": {},
   "source": [
    "### B)\n",
    "To lower the uncertainty to 0.00005mm a deck of approximately 70000 cards would be required."
   ]
  },
  {
   "cell_type": "markdown",
   "metadata": {},
   "source": [
    "## Question 3: Statistical Data"
   ]
  },
  {
   "cell_type": "code",
   "execution_count": 201,
   "metadata": {
    "collapsed": true
   },
   "outputs": [],
   "source": [
    "data = loadtxt('./a2data')\n",
    "X = data[:,0]\n",
    "Y = data[:,1]"
   ]
  },
  {
   "cell_type": "markdown",
   "metadata": {},
   "source": [
    "### A)"
   ]
  },
  {
   "cell_type": "code",
   "execution_count": 202,
   "metadata": {
    "collapsed": false
   },
   "outputs": [
    {
     "data": {
      "text/markdown": [
       "\n",
       "| | $X$ | $Y$ |\n",
       "|-|-----|-----|\n",
       "|Mean|20.16|22.06|\n",
       "|Std.Dev.|5.01|6.49|\n",
       "|Err of Mean|0.50|0.65|\n"
      ],
      "text/plain": [
       "<IPython.core.display.Markdown object>"
      ]
     },
     "execution_count": 202,
     "metadata": {},
     "output_type": "execute_result"
    }
   ],
   "source": [
    "sigmax = std(X, ddof=1)\n",
    "sigmay = std(Y, ddof=1)\n",
    "\n",
    "Markdown('''\n",
    "| | $X$ | $Y$ |\n",
    "|-|-----|-----|\n",
    "|Mean|{:.2f}|{:.2f}|\n",
    "|Std.Dev.|{:.2f}|{:.2f}|\n",
    "|Err of Mean|{:.2f}|{:.2f}|\n",
    "'''.format(\n",
    "    mean(X), mean(Y),\n",
    "    sigmax, sigmay,\n",
    "    stats.sem(X, ddof=1), stats.sem(Y, ddof=1)\n",
    "))"
   ]
  },
  {
   "cell_type": "markdown",
   "metadata": {},
   "source": [
    "### B)"
   ]
  },
  {
   "cell_type": "code",
   "execution_count": 203,
   "metadata": {
    "collapsed": false
   },
   "outputs": [
    {
     "data": {
      "image/png": "[encoded data removed]",
      "text/plain": [
       "<matplotlib.figure.Figure at 0x27e66afc240>"
      ]
     },
     "metadata": {},
     "output_type": "display_data"
    }
   ],
   "source": [
    "plot(X,Y, 'k.')\n",
    "xlabel('$X$')\n",
    "ylabel('$Y$')\n",
    "title('Scatter Plot');"
   ]
  },
  {
   "cell_type": "markdown",
   "metadata": {},
   "source": [
    "### C)"
   ]
  },
  {
   "cell_type": "code",
   "execution_count": 204,
   "metadata": {
    "collapsed": false
   },
   "outputs": [
    {
     "data": {
      "text/markdown": [
       "\n",
       "- The covariance factor is $25.2$\n",
       "- The correlation factor is $0.8$\n"
      ],
      "text/plain": [
       "<IPython.core.display.Markdown object>"
      ]
     },
     "execution_count": 204,
     "metadata": {},
     "output_type": "execute_result"
    }
   ],
   "source": [
    "sigmaxy = sum((X-mean(X))*(Y-mean(Y)))/(X.size-1)\n",
    "rhoxy = sigmaxy/(sigmax*sigmay)\n",
    "\n",
    "Markdown('''\n",
    "- The covariance factor is ${:.1f}$\n",
    "- The correlation factor is ${:.1f}$\n",
    "'''.format(sigmaxy, rhoxy))\n"
   ]
  },
  {
   "cell_type": "markdown",
   "metadata": {
    "collapsed": true
   },
   "source": [
    "The correlation factor is consistent with the scatter plot&mdash;a positive relationship with a slope slightly less than 1. The covariance factor is also qualitatively consistent with the data: the $x$ and $y$ values tend to be in the same directions from their means at the same time."
   ]
  },
  {
   "cell_type": "markdown",
   "metadata": {},
   "source": [
    "### D)"
   ]
  },
  {
   "cell_type": "code",
   "execution_count": 205,
   "metadata": {
    "collapsed": false
   },
   "outputs": [
    {
     "data": {
      "image/png": "[encoded data removed]",
      "text/plain": [
       "<matplotlib.figure.Figure at 0x27e66e4fe10>"
      ]
     },
     "metadata": {},
     "output_type": "display_data"
    }
   ],
   "source": [
    "hist(X, bins=linspace(0,50,51))\n",
    "title('Histogram of $X$')\n",
    "ylabel('# of occurances')\n",
    "xlabel('$X$');"
   ]
  },
  {
   "cell_type": "markdown",
   "metadata": {},
   "source": [
    "### E)"
   ]
  },
  {
   "cell_type": "code",
   "execution_count": 206,
   "metadata": {
    "collapsed": false
   },
   "outputs": [
    {
     "data": {
      "image/png": "[encoded data removed]",
      "text/plain": [
       "<matplotlib.figure.Figure at 0x27e671de0b8>"
      ]
     },
     "metadata": {},
     "output_type": "display_data"
    }
   ],
   "source": [
    "\n",
    "yvals = arange(0,50)\n",
    "F = exp(-(yvals-mean(Y))**2/(2*sigmay**2))/(sigmay*sqrt(2*pi))\n",
    "\n",
    "hist(Y, bins=linspace(0,50,51), normed=True, label='Histogram')\n",
    "plot(yvals, F, label='Histogram')\n",
    "title('Normalized Histogram of $Y$')\n",
    "ylabel('# of occurances')\n",
    "xlabel('$Y$')\n",
    "legend();\n"
   ]
  },
  {
   "cell_type": "code",
   "execution_count": null,
   "metadata": {
    "collapsed": true
   },
   "outputs": [],
   "source": []
  }
 ],
 "metadata": {
  "kernelspec": {
   "display_name": "Python 3",
   "language": "python",
   "name": "python3"
  },
  "language_info": {
   "codemirror_mode": {
    "name": "ipython",
    "version": 3
   },
   "file_extension": ".py",
   "mimetype": "text/x-python",
   "name": "python",
   "nbconvert_exporter": "python",
   "pygments_lexer": "ipython3",
   "version": "3.5.1"
  }
 },
 "nbformat": 4,
 "nbformat_minor": 0
}
