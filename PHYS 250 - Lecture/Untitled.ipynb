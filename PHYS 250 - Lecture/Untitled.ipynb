{
 "cells": [
  {
   "cell_type": "code",
   "execution_count": 1,
   "metadata": {
    "collapsed": false
   },
   "outputs": [
    {
     "name": "stdout",
     "output_type": "stream",
     "text": [
      "Populating the interactive namespace from numpy and matplotlib\n"
     ]
    }
   ],
   "source": [
    "%pylab inline\n",
    "import ipywidgets as w\n",
    "import time\n",
    "import threading\n",
    "from IPython.display import display\n"
   ]
  },
  {
   "cell_type": "code",
   "execution_count": 2,
   "metadata": {
    "collapsed": false
   },
   "outputs": [
    {
     "data": {
      "text/plain": [
       "<matplotlib.figure.Figure at 0x272f7fb7470>"
      ]
     },
     "metadata": {},
     "output_type": "display_data"
    }
   ],
   "source": [
    "\n",
    "# def animate(start, stop, step, speed=1, **kwargs):\n",
    "\n",
    "#     def generator(func):\n",
    "#         def wrapper():\n",
    "#             func(a=a)\n",
    "#         w.interactive(wrapper, a=w.FloatProgress(start=start, stop=stop, step=step))\n",
    "#         return wrapper\n",
    "#     return generator\n",
    "\n",
    "def animated(func, start, stop, step, speed=1):\n",
    "    \n",
    "    slider = w.FloatProgress(start=start, value=start, stop=stop, step=step)\n",
    "    \n",
    "    stopflag=False\n",
    "    startflag=False\n",
    "    \n",
    "    def stop_callback(*args):\n",
    "        nonlocal stopflag\n",
    "        stopflag = True\n",
    "    stop_button = w.Button(description='Stop')\n",
    "    stop_button.on_click(stop_callback)\n",
    "    \n",
    "    \n",
    "    def start_callback(*args):\n",
    "        nonlocal startflag\n",
    "        startflag = True\n",
    "    start_button = w.Button(description='Start')\n",
    "    start_button.on_click(start_callback)\n",
    "    \n",
    "    def someFunc():\n",
    "        while True:\n",
    "            while not startflag:\n",
    "                time.sleep(0.5)\n",
    "            for i in arange(start, stop, step):\n",
    "                if stopflag:\n",
    "                    break\n",
    "                slider.value=i\n",
    "                time.sleep(1/speed)\n",
    "    t1 = threading.Thread(target=someFunc)\n",
    "    t1.start()\n",
    "    \n",
    "    display(start_button)\n",
    "    display(stop_button)\n",
    "    display(w.interactive(func, a=slider ))\n",
    "\n",
    "def t(a):\n",
    "    x = linspace(0, 10, 100)\n",
    "    y = sin(x*a)\n",
    "    plot(x,y)\n",
    "    show()\n",
    "    \n",
    "animated(t, start=1, stop=10, step=.1, speed=1)\n",
    "\n"
   ]
  },
  {
   "cell_type": "code",
   "execution_count": null,
   "metadata": {
    "collapsed": false
   },
   "outputs": [],
   "source": []
  }
 ],
 "metadata": {
  "kernelspec": {
   "display_name": "Python 3",
   "language": "python",
   "name": "python3"
  },
  "language_info": {
   "codemirror_mode": {
    "name": "ipython",
    "version": 3
   },
   "file_extension": ".py",
   "mimetype": "text/x-python",
   "name": "python",
   "nbconvert_exporter": "python",
   "pygments_lexer": "ipython3",
   "version": "3.5.1"
  }
 },
 "nbformat": 4,
 "nbformat_minor": 0
}
