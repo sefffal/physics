{
 "cells": [
  {
   "cell_type": "markdown",
   "metadata": {},
   "source": [
    "#### Animation of a ball on a spring ####"
   ]
  },
  {
   "cell_type": "code",
   "execution_count": 4,
   "metadata": {
    "collapsed": false
   },
   "outputs": [],
   "source": [
    "import numpy as np\n",
    "from matplotlib import pyplot as plt\n",
    "from matplotlib import animation\n",
    "\n",
    "c = 6\n",
    "A = 2\n",
    "radius = 1.5\n",
    "speed = 5\n",
    "\n",
    "# First set up the figure, the axis, and the plot element we want to animate\n",
    "fig = plt.figure()\n",
    "ax = plt.axes(xlim=(0, 10), ylim=(-4, 4))\n",
    "line, = ax.plot([], [], lw=2)\n",
    "ball = plt.Circle((0-c, 0), radius=radius, fc='r') #Circle is initially created off screen\n",
    "\n",
    "# initialization function: plot the background of each frame\n",
    "def init():\n",
    "    line.set_data([], [])\n",
    "    ball.center=(c,0)\n",
    "    ax.add_patch(ball)\n",
    "    return line, ball,\n",
    "\n",
    "# animation function.  This is called sequentially\n",
    "def animate(i):\n",
    "    L = c - radius + A*np.cos(np.radians(speed*i))\n",
    "    f = 5 * 2 * np.pi/L\n",
    "    x = np.linspace(0, L, 1000)\n",
    "    y = np.sin(f * (x))\n",
    "    line.set_data(x, y)\n",
    "    \n",
    "    xb, yb = ball.center\n",
    "    xb = c + A*np.cos(np.radians(speed*i))\n",
    "    ball.center = (xb,yb)\n",
    "    return line, ball,\n",
    "\n",
    "# call the animator.  blit=True means only re-draw the parts that have changed.\n",
    "anim = animation.FuncAnimation(fig, animate, init_func=init,\n",
    "                               frames=int(360/speed), interval=20, blit=True)\n",
    "\n",
    "\n",
    "plt.show()"
   ]
  },
  {
   "cell_type": "code",
   "execution_count": 3,
   "metadata": {
    "collapsed": false
   },
   "outputs": [
    {
     "ename": "ImportError",
     "evalue": "No module named 'moviepy'",
     "output_type": "error",
     "traceback": [
      "\u001b[1;31m---------------------------------------------------------------------------\u001b[0m",
      "\u001b[1;31mImportError\u001b[0m                               Traceback (most recent call last)",
      "\u001b[1;32m<ipython-input-3-6d2f23ddbf8f>\u001b[0m in \u001b[0;36m<module>\u001b[1;34m()\u001b[0m\n\u001b[0;32m      1\u001b[0m \u001b[1;32mimport\u001b[0m \u001b[0mmatplotlib\u001b[0m\u001b[1;33m.\u001b[0m\u001b[0mpyplot\u001b[0m \u001b[1;32mas\u001b[0m \u001b[0mplt\u001b[0m\u001b[1;33m\u001b[0m\u001b[0m\n\u001b[0;32m      2\u001b[0m \u001b[1;32mimport\u001b[0m \u001b[0mnumpy\u001b[0m \u001b[1;32mas\u001b[0m \u001b[0mnp\u001b[0m\u001b[1;33m\u001b[0m\u001b[0m\n\u001b[1;32m----> 3\u001b[1;33m \u001b[1;32mfrom\u001b[0m \u001b[0mmoviepy\u001b[0m\u001b[1;33m.\u001b[0m\u001b[0mvideo\u001b[0m\u001b[1;33m.\u001b[0m\u001b[0mio\u001b[0m\u001b[1;33m.\u001b[0m\u001b[0mbindings\u001b[0m \u001b[1;32mimport\u001b[0m \u001b[0mmplfig_to_npimage\u001b[0m\u001b[1;33m\u001b[0m\u001b[0m\n\u001b[0m\u001b[0;32m      4\u001b[0m \u001b[1;32mimport\u001b[0m \u001b[0mmoviepy\u001b[0m\u001b[1;33m.\u001b[0m\u001b[0meditor\u001b[0m \u001b[1;32mas\u001b[0m \u001b[0mmpy\u001b[0m\u001b[1;33m\u001b[0m\u001b[0m\n\u001b[0;32m      5\u001b[0m \u001b[1;33m\u001b[0m\u001b[0m\n",
      "\u001b[1;31mImportError\u001b[0m: No module named 'moviepy'"
     ]
    }
   ],
   "source": [
    "import matplotlib.pyplot as plt\n",
    "import numpy as np\n",
    "from moviepy.video.io.bindings import mplfig_to_npimage\n",
    "import moviepy.editor as mpy\n",
    "\n",
    "# DRAW A FIGURE WITH MATPLOTLIB\n",
    "\n",
    "duration = 1.5\n",
    "\n",
    "c = 6\n",
    "A = 2\n",
    "radius = 1.5\n",
    "\n",
    "fig_mpl, ax = plt.subplots(1,figsize=(8,6), facecolor='white')\n",
    "\n",
    "ball = plt.Circle((0-c, 0), radius=radius, fc='r') #Circle is initially created off screen\n",
    "ax.add_patch(ball)\n",
    "\n",
    "L = lambda t: c - radius + A*np.cos(t)\n",
    "\n",
    "cent = lambda t: L(t) + radius\n",
    "\n",
    "x = lambda t: np.linspace(0, L(t), 1000)\n",
    "\n",
    "def y(t):\n",
    "    f = 5 * 2 * np.pi/L(t)\n",
    "    return np.sin(f * (x(t)))\n",
    "\n",
    "\n",
    "#x = np.linspace(0,c,1000)\n",
    "#y=lambda t:  np.sin(2*x - t)\n",
    "\n",
    "ax.set_title(\"Ball on a Spring Oscillation\")\n",
    "ax.set_ylim(-4,4)\n",
    "ax.set_xlim(0,10)\n",
    "line, = ax.plot(x(0), y(0), lw=2)\n",
    "\n",
    "# ANIMATE WITH MOVIEPY (UPDATE THE CURVE FOR EACH t). MAKE A GIF.\n",
    "\n",
    "def make_frame_mpl(t):\n",
    "    tt = 2*np.pi*t/duration\n",
    "    ball.center = (cent(tt),0)\n",
    "    line.set_xdata( x(tt))\n",
    "    line.set_ydata( y(tt))  # <= Update the curve\n",
    "    return mplfig_to_npimage(fig_mpl) # RGB image of the figure\n",
    "\n",
    "animation =mpy.VideoClip(make_frame_mpl, duration=duration)\n",
    "animation.write_gif(\"ball and spring.gif\", fps=30)\n"
   ]
  },
  {
   "cell_type": "code",
   "execution_count": null,
   "metadata": {
    "collapsed": true
   },
   "outputs": [],
   "source": []
  }
 ],
 "metadata": {
  "kernelspec": {
   "display_name": "Python 3",
   "language": "python",
   "name": "python3"
  },
  "language_info": {
   "codemirror_mode": {
    "name": "ipython",
    "version": 3
   },
   "file_extension": ".py",
   "mimetype": "text/x-python",
   "name": "python",
   "nbconvert_exporter": "python",
   "pygments_lexer": "ipython3",
   "version": "3.5.1"
  }
 },
 "nbformat": 4,
 "nbformat_minor": 0
}
