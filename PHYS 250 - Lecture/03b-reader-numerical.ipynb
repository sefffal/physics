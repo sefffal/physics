{
 "cells": [
  {
   "cell_type": "markdown",
   "metadata": {},
   "source": [
    "# Damped harmonic motion - numerical solution\n",
    "\n",
    "Alastair McLean\n",
    "\n",
    "The Python code in this Notebook can be used to investigate oscillations in undamped or damped systems. You simply have to choose the appropriate parameters and initial conditions for your system and the code will calculate the response of the system, the velocity of the system and the phase diagram. "
   ]
  },
  {
   "cell_type": "code",
   "execution_count": 1,
   "metadata": {
    "collapsed": true
   },
   "outputs": [],
   "source": [
    "import numpy as np\n",
    "import matplotlib.pyplot as plt\n",
    "from scipy.integrate import odeint\n",
    "%matplotlib inline\n",
    "\n",
    "import ipywidgets as widgets"
   ]
  },
  {
   "cell_type": "code",
   "execution_count": 2,
   "metadata": {
    "collapsed": true
   },
   "outputs": [],
   "source": [
    "def naturalfrequency(k, m):\n",
    "    return np.sqrt(k/m)"
   ]
  },
  {
   "cell_type": "code",
   "execution_count": 3,
   "metadata": {
    "collapsed": true
   },
   "outputs": [],
   "source": [
    "def dampingcoefficient(dampingratio, k, m):\n",
    "    return 2*np.sqrt(k/m)*dampingratio*m"
   ]
  },
  {
   "cell_type": "code",
   "execution_count": 4,
   "metadata": {
    "collapsed": false
   },
   "outputs": [],
   "source": [
    "def f(y, t, params):\n",
    "    # unpack current values of y\n",
    "    x, v = y    \n",
    "    # unpack parameters\n",
    "    k, mass, c = params     \n",
    "    # list of derivatives\n",
    "    derivs = [v, -(c/mass)*v-(k/mass)*x]    \n",
    "    return derivs"
   ]
  },
  {
   "cell_type": "markdown",
   "metadata": {},
   "source": [
    "### The spring constant and mass are defined"
   ]
  },
  {
   "cell_type": "code",
   "execution_count": 5,
   "metadata": {
    "collapsed": false
   },
   "outputs": [],
   "source": [
    "k = 40\n",
    "mass = 0.1"
   ]
  },
  {
   "cell_type": "markdown",
   "metadata": {},
   "source": [
    "### Make the following plots\n",
    "Investigate the changes in the response of the system as you systematically change the damping ratio. Can you understand the changes you see? The time interval has been chosed to capture as much of the action as possible. Feel free to change it. \n",
    "\n",
    "|Damping Ratio ($\\zeta$)|Time Interval (s)   |Response Class|\n",
    "|:-:|:-:|:-:|\n",
    "| 0.0   |0.5    |undamped|\n",
    "| 0.0001|5000.0 |underdamped|\n",
    "| 0.001 | 500.0 |underdamped|\n",
    "| 0.01  | 50.0  |underdamped|\n",
    "| 0.1   | 5.0   |underdamped|\n",
    "| 0.5   | 1.0   |underdamped|\n",
    "| 0.8   | 1.0   |underdamped|\n",
    "| 1.0   | 1.0   |critically damped|\n",
    "| 2.0   | 1.0   |overdamped|\n",
    "| 5.0   | 1.0   |overdamped|\n",
    "| 10.0  | 5.0   |overdamped|\n"
   ]
  },
  {
   "cell_type": "markdown",
   "metadata": {},
   "source": [
    "Input the damping ratio ($\\zeta$) using the code block directly below. The function ${\\tt dampingcoefficient()}$ will calculate the appropriate value of the damping coefficient. \n",
    "\n",
    "**Thing about the following questions:**\n",
    "\n",
    "1. How does the frequency of the system oscillations vary as you increase the damping. Can you think why the frequency might change? After all you are not changing the mass of the system or the spring constant. \n",
    "2. Investigate overshoot as you get close to critical damping. Overshoot occurs when the response becomes negative in our case - x0 is positive. At what value of the damping ratio does overshoot totally stop?\n",
    "3. Investigate what happens when the system is overdamped. Does increasing the damping ratio increase the time the system takes to move back to equilibrium position or not?\n",
    "4. When the system is overdamped the transition in the bottom right hand corner of the phase plot gets sharper. Can you explain this. \n",
    "5. In the overdamped region the maximum value of negative velocity changes as the damping ratio changed. Can you explain this?\n",
    "\n",
    "You could repeat the above sequence with a different set of initial conditions. For example, you could give the system some initial velocity in either a positive or a negative direction. Of course, you can also change the mass and the period, but you should be able to predict what happens. Increasing the mass will slow the system down. Increasing the spring constant will speed it up. \n"
   ]
  },
  {
   "cell_type": "code",
   "execution_count": 14,
   "metadata": {
    "collapsed": false
   },
   "outputs": [],
   "source": [
    "dampingratio = 1.0\n",
    "c = dampingcoefficient(dampingratio, k, mass)\n",
    "timeinterval = 5"
   ]
  },
  {
   "cell_type": "markdown",
   "metadata": {},
   "source": [
    "### Initial conditions\n",
    "It is a linear equation, so everything scales! Lets take the units to be cm. So the intial displacement is 1.0 cm and initial speed is zero."
   ]
  },
  {
   "cell_type": "code",
   "execution_count": 15,
   "metadata": {
    "collapsed": true
   },
   "outputs": [],
   "source": [
    "x0 = 1.00   # displacement\n",
    "v0 = 0.00   # velocity"
   ]
  },
  {
   "cell_type": "markdown",
   "metadata": {},
   "source": [
    "Bundle parameters for ODE solver"
   ]
  },
  {
   "cell_type": "code",
   "execution_count": 16,
   "metadata": {
    "collapsed": true
   },
   "outputs": [],
   "source": [
    "params = [k, mass, c]"
   ]
  },
  {
   "cell_type": "markdown",
   "metadata": {},
   "source": [
    "Bundle initial conditions for ODE solver"
   ]
  },
  {
   "cell_type": "code",
   "execution_count": 17,
   "metadata": {
    "collapsed": true
   },
   "outputs": [],
   "source": [
    "y0 = [x0, v0]"
   ]
  },
  {
   "cell_type": "markdown",
   "metadata": {},
   "source": [
    "The time array"
   ]
  },
  {
   "cell_type": "code",
   "execution_count": 18,
   "metadata": {
    "collapsed": false
   },
   "outputs": [],
   "source": [
    "t = np.arange(start = 0.0, stop = timeinterval, step = 0.001)"
   ]
  },
  {
   "cell_type": "markdown",
   "metadata": {},
   "source": [
    "Call the ODE solver"
   ]
  },
  {
   "cell_type": "code",
   "execution_count": 19,
   "metadata": {
    "collapsed": false
   },
   "outputs": [],
   "source": [
    "solution = odeint(f, y0, t, args=(params,))"
   ]
  },
  {
   "cell_type": "markdown",
   "metadata": {},
   "source": [
    "### Plot of the numerical response"
   ]
  },
  {
   "cell_type": "code",
   "execution_count": 20,
   "metadata": {
    "collapsed": false
   },
   "outputs": [
    {
     "data": {
      "image/png": "[encoded data removed]",
      "text/plain": [
       "<matplotlib.figure.Figure at 0x1812b2894a8>"
      ]
     },
     "metadata": {},
     "output_type": "display_data"
    }
   ],
   "source": [
    "plt.figure(1, figsize=(8,12))\n",
    "\n",
    "# Plot x(t)\n",
    "plt.subplot(311)\n",
    "xmax = 1.1*np.amax(solution[:,0])\n",
    "xmin = 1.1*np.amin(solution[:,0])\n",
    "plt.plot(t, solution[:,0],'r-')\n",
    "plt.xlabel('time (s)', fontsize=18)\n",
    "plt.ylabel('x (m)', fontsize=18)\n",
    "plt.ylim(xmin, xmax)\n",
    "plt.title('Damped Oscillator', fontsize = 18)\n",
    "\n",
    "# Plot v(t)\n",
    "plt.subplot(312)\n",
    "vmax = 1.1*np.amax(solution[:,1])\n",
    "vmin = 1.1*np.amin(solution[:,1])\n",
    "plt.plot(t, solution[:,1],'b-')\n",
    "plt.xlabel('time (s)', fontsize=18)\n",
    "plt.ylabel('v (m/s)', fontsize=18)\n",
    "plt.ylim(vmin, vmax)\n",
    "\n",
    "# Plot v(x)\n",
    "plt.subplot(313)\n",
    "plt.plot(solution[:,0], solution[:,1], 'g-')\n",
    "plt.xlabel('x (m)', fontsize=18)\n",
    "plt.ylabel('v (m/s)', fontsize=18)\n",
    "plt.xlim(xmin, xmax)\n",
    "plt.ylim(vmin, vmax)\n",
    "# uncomment one of the following lines \n",
    "# if you want a png or a pdf file output\n",
    "# plt.savefig('03b-dampedoscillator.png', dpi=100)\n",
    "#plt.savefig('03b-dampedoscillator-zeta-0.5.pdf')\n",
    "# plt.tight_layout()\n",
    "plt.show()"
   ]
  },
  {
   "cell_type": "markdown",
   "metadata": {
    "collapsed": true
   },
   "source": [
    "## Plot of the Phase Diagram\n",
    "I added this plot of the phase diagram with the $x$ and $v$ axes scaled to the same size. "
   ]
  },
  {
   "cell_type": "code",
   "execution_count": 21,
   "metadata": {
    "collapsed": false
   },
   "outputs": [
    {
     "data": {
      "image/png": "[encoded data removed]",
      "text/plain": [
       "<matplotlib.figure.Figure at 0x1812b291c50>"
      ]
     },
     "metadata": {},
     "output_type": "display_data"
    }
   ],
   "source": [
    "plt.figure(2, figsize=(6,6))\n",
    "plt.plot(solution[:,0], solution[:,1], 'g-')\n",
    "plt.xlabel('x (m)', fontsize=18)\n",
    "plt.ylabel('v (m/s)', fontsize=18)\n",
    "plt.xlim(xmin, xmax)\n",
    "plt.ylim(vmin, vmax)\n",
    "plt.title('Phase Diagram', fontsize=18)\n",
    "# uncomment if you want a plot of the phase diagram\n",
    "#plt.savefig('03b-dampedoscillator-phasediagram-zeta-5-0.pdf')\n",
    "plt.show()"
   ]
  },
  {
   "cell_type": "code",
   "execution_count": null,
   "metadata": {
    "collapsed": true
   },
   "outputs": [],
   "source": []
  }
 ],
 "metadata": {
  "kernelspec": {
   "display_name": "Python 3",
   "language": "python",
   "name": "python3"
  },
  "language_info": {
   "codemirror_mode": {
    "name": "ipython",
    "version": 3
   },
   "file_extension": ".py",
   "mimetype": "text/x-python",
   "name": "python",
   "nbconvert_exporter": "python",
   "pygments_lexer": "ipython3",
   "version": "3.5.1"
  }
 },
 "nbformat": 4,
 "nbformat_minor": 0
}
